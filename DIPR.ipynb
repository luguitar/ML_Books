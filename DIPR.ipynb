{
  "nbformat": 4,
  "nbformat_minor": 0,
  "metadata": {
    "kernelspec": {
      "display_name": "R",
      "language": "R",
      "name": "ir"
    },
    "language_info": {
      "codemirror_mode": "r",
      "file_extension": ".r",
      "mimetype": "text/x-r-source",
      "name": "R",
      "pygments_lexer": "r",
      "version": "3.3.1"
    },
    "colab": {
      "name": "DIPR.ipynb",
      "provenance": [],
      "collapsed_sections": [],
      "include_colab_link": true
    }
  },
  "cells": [
    {
      "cell_type": "markdown",
      "metadata": {
        "id": "view-in-github",
        "colab_type": "text"
      },
      "source": [
        "<a href=\"https://colab.research.google.com/github/luguitar/ML_Books/blob/master/DIPR.ipynb\" target=\"_parent\"><img src=\"https://colab.research.google.com/assets/colab-badge.svg\" alt=\"Open In Colab\"/></a>"
      ]
    },
    {
      "cell_type": "markdown",
      "metadata": {
        "id": "zeCWjfyphbGB"
      },
      "source": [
        "**`>LabDadosPrev(\"RPPS\")` - Laboratório de Análise de Dados Previdenciários**\n",
        "\n",
        "</br>\n",
        "\n",
        "# **DIPR**\n",
        "----\n",
        "\"_Sem dados, você é apenas mais uma pessoa com uma opinião_\" - **W. E. Deming**\n",
        "\n",
        "</br>\n",
        "\n",
        ">[Marcos F Silva](https://audinalytics.netlify.app/)   \n",
        "**Última Atualização:** 12/09/2021   \n",
        "**Status:** em elaboração\n"
      ]
    },
    {
      "cell_type": "markdown",
      "metadata": {
        "id": "Sf4rl3oaYz-V"
      },
      "source": [
        "# **Caracterização da base de dados**\n",
        "\n",
        "A SPREV disponibiliza os dados relativos aos ingresssos e dispêndios de recursos dos RPPS num arquivo contendo os dados do **Demonstrativo de Informações Previdenciárias e Repasses - DIPR** demonstrativo no qual os RPPS repassam à SPREV essas informações.\n",
        "\n",
        "Este é,sem dúvida, um dos principais arquivos de dados relacionados aos RPPS.\n",
        "\n",
        "Cada arquivo contém os dados relativos a um exercício, de forma que cada arquivo de dados refere-se a um ano e contém os dados de todos os RPPS.\n",
        "\n",
        "Estão disponíveis no site da SPrev os arquivos de dados do DIPR para os anos de 2014 em diante. \n",
        "\n",
        "Também é oportuno registrar que os nomes dos arquivos podem sofrer alterações de uma atualização para outra. Assim, pode ser que versões futuras dos arquivos de dados do DIPR tenham denominação distinta da que é apresentada neste documento.\n"
      ]
    },
    {
      "cell_type": "markdown",
      "metadata": {
        "id": "3ZExzHuYY169"
      },
      "source": [
        "# **Importação da base de dados**\n"
      ]
    },
    {
      "cell_type": "code",
      "metadata": {
        "id": "tLqNPbSbrWr1"
      },
      "source": [
        "# Anexar o repositório do GitHub contendo os dados...\n",
        "system('git clone https://github.com/marcosfs2006/LabDadosPrevRPPS.git')"
      ],
      "execution_count": null,
      "outputs": []
    },
    {
      "cell_type": "code",
      "metadata": {
        "id": "f03cGuJMakrV"
      },
      "source": [
        "# Carregar os pacotes necessários...\n",
        "options(scipen = 999, message = FALSE)\n",
        "install.packages(\"writexl\")\n",
        "library(dplyr)\n",
        "library(readr)\n",
        "library(ggplot2)\n",
        "library(stringr)\n",
        "library(readxl)\n",
        "library(lubridate)\n",
        "library(purrr)\n",
        "library(writexl)"
      ],
      "execution_count": null,
      "outputs": []
    },
    {
      "cell_type": "markdown",
      "metadata": {
        "id": "HAi3CZq2an9n"
      },
      "source": [
        "A importação dos dados contidos nos arquivos pode ser feita da seguinte forma."
      ]
    },
    {
      "cell_type": "code",
      "metadata": {
        "id": "97bpzm8xavZh",
        "colab": {
          "base_uri": "https://localhost:8080/",
          "height": 281
        },
        "outputId": "909d87ab-15c6-45b1-f11e-bec3faf15bbd"
      },
      "source": [
        "# Importação dos dados\n",
        "options(warn=-1)\n",
        "suppressMessages({\n",
        "\n",
        "arquivos_dipr <- c(\"LabDadosPrevRPPS/RG-OUTROS-DP-ENVIO_2021_20210821.xlsx\",   \n",
        "                   \"LabDadosPrevRPPS/RG-OUTROS-DP-ENVIO_2020_20210528.xlsx\",\n",
        "                   \"LabDadosPrevRPPS/RG-OUTROS-DP-ENVIO_2019_20210821.xlsx\") \n",
        "\n",
        "# importação dos dados dos anos de 2019, 2020 e 2021 (até JUN/2021)\n",
        "dipr <- map_dfr(arquivos_dipr,\n",
        "                read_excel,\n",
        "                sheet = \"diprResultadoPrevidenciario\",\n",
        "                skip = 4,\n",
        "                col_names = FALSE)\n",
        "\n",
        "# Colocar nomes nas variáveis\n",
        "names(dipr) <- c(\n",
        "                    # 0. IDENTIFICAÇÃO DO DIPR\n",
        "                    \"ente\", \"uf\", \"competencia\", \"plano_segreg\", \"dt_info\",\n",
        "                    \n",
        "                    # 1. BASES DE CÁLCULO DAS CONTRIBUIÇÕES DEVIDAS\n",
        "                    \"bc_pat_serv\", \"bc_pat_serv_ug\", \"bc_pat_apo\", \"bc_pat_pen\",\n",
        "                    \"bc_serv\", \"bc_apo\", \"bc_pen\",\n",
        "                    \n",
        "                    # 2. CONTRIBUIÇÕES REPASSADAS\n",
        "                     \"ct_pat_serv\", \"ct_pat_serv_ug\", \"ct_pat_apo\", \"ct_pat_pen\",\n",
        "                    \"ct_serv\", \"ct_apo\", \"ct_pen\",\n",
        "                    \n",
        "                    # 3. DEDUÇÕES\n",
        "                    \"deduc_pat\", \"deduc_pat_outros\", \"deduc_seg\", \"deduc_seg_outros\",\n",
        "                    \n",
        "                    # 4. APORTES E TRANSFERÊNCIAS\n",
        "                    \"aportes_amortiz\", \"aportes_insufin\", \"aportes_despadm\",\n",
        "                    \"aportes_pagtesouro\", \"aportes_outros\",\n",
        "                    \n",
        "                    # 5. PARCELAMENTOS\n",
        "                    \"parcelamentos\",\n",
        "                    \n",
        "                    # 6. BASES DE CÁLCULO DAS CONTRIBUIÇÕES DEVIDAS RELATIVAS À FOLHA DA UNIDADE GESTORA\n",
        "                    \"bcug_pat\", \"bcug_serv\", \"bcug_serv_afast\", \"bcug_apos\", \"bcug_pen\",\n",
        "                    \n",
        "                    # 7. CONTRIBUIÇÕES ARRECADADAS PELA UNIDADE GESTORA \n",
        "                    \"ctug_pat\", \"ctug_serv\", \"ctug_serv_afast\", \"ctug_apos\", \"ctug_pen\",\n",
        "                    \n",
        "                    # 8. REMUNERAÇÃO BRUTA (SOMATÓRIO DO ENTE E DA UNIDADE GESTORA)\n",
        "                    \"rb_serv\", \"rb_apos\", \"rb_pen\",\n",
        "                     \n",
        "                    # 9. NÚMERO DE BENEFICIÁRIOS (SOMATÓRIO DAS FOLHAS DO ENTE E DA UNIDADE GESTORA)  \n",
        "                    \"nb_serv\", \"nb_apos\", \"nb_pen\",\n",
        "                    \"nb_dep\",\n",
        "                    \n",
        "                    # 10. INGRESSOS DE RECURSOS\n",
        "                    \"ing_contr\", \"ing_aportes\", \"ing_parc\", \"ing_acres_leg\", \"ing_contr_cedlic\",\n",
        "                    \"ing_comprev\", \"ing_aplicfin\", \"ing_ativos\", \"ing_outros\",\n",
        "                    \n",
        "                    # 11. UTILIZAÇÃO DE RECURSOS\n",
        "                    \"desp_apo\", \"desp_pen_morte\", \"desp_auxdoenca\", \"desp_salmater\",\n",
        "                    \"desp_salfam\", \"desp_auxreclu\", \"desp_decjud\", \"desp_beneftesouro\",\n",
        "                    \"desp_despadm\", \"desp_invest\", \"desp_rest\", \"desp_comprev\", \n",
        "                    \"desp_outras\",\n",
        "                    \n",
        "                    # 12. RESULTADO FINAL\n",
        "                    \"total_receita\", \"total_despesa\", \"resutado_final\",\n",
        "                    \n",
        "                    # 13. MILITARES\n",
        "                    \"bcmil_pat_ativ\", \"bcmil_ativos\", \"bcmil_reserva\", \"bcmil_pen\",\n",
        "                    \"ctmil_pat\", \"ctmil_ativos\", \"ctmil_reserva\", \"ctmil_pen\",\n",
        "                    \"rbmil\", \"nbmil_ativos\", \"nbmil_reserva\", \"nbmil_pen\", \"nbmil_dep\",\n",
        "                    \"ingmil_contr\", \"ingmil_aportes\", \"ingmil_outras\", \"despmil_reseva\",\n",
        "                    \"despmil_penmorte\", \"despmil_outras\", \"resultado_final\")\n",
        "\n",
        "# Corrigir os nomes dos Entes na base de DIPR para coincidir com os nomes dos Entes\n",
        "# no arquivo do regime previdenciário atual dos Entes.\n",
        "dipr$ente <- gsub(\"^Prefeitura Municipal d[eoa] \", \"\", dipr$ente)\n",
        "\n",
        "# Função para converter para formato numerico\n",
        "convnum <- function(x){\n",
        "  x <- gsub(\"\\\\.\", \"\", x)\n",
        "  x <- gsub(\",\", \".\", x)\n",
        "  as.numeric(x)\n",
        "}\n",
        "\n",
        "# convertendo os dados...\n",
        "dipr <- as_tibble(map_at(.x = dipr,\n",
        "                         .at = names(dipr)[-(1:5)],\n",
        "                         .f = convnum))\n",
        "\n",
        "# Converter a variável competencia para o formato data\n",
        "# ESSE CÓDIGO NÃO FUNCIONA NO GOOGLE COLAB!!!!\n",
        "#dipr <- dipr %>% \n",
        "#          mutate(competencia = dmy(paste(\"01\", competencia, sep = \"/\")),\n",
        "#                 dt_info = dmy(dt_info)) \n",
        "\n",
        "})\n",
        "\n",
        "head(dipr, 2)"
      ],
      "execution_count": null,
      "outputs": [
        {
          "output_type": "display_data",
          "data": {
            "text/plain": [
              "  ente                        uf competencia plano_segreg   dt_info   \n",
              "1 Governo do Distrito Federal DF JAN/2021    Financeiro     22/03/2021\n",
              "2 Governo do Distrito Federal DF JAN/2021    Previdenciário 22/03/2021\n",
              "  bc_pat_serv bc_pat_serv_ug bc_pat_apo bc_pat_pen bc_serv   ⋯ nbmil_reserva\n",
              "1 662645466   NA             NA         NA         662645466 ⋯ NA           \n",
              "2  23358233   NA             NA         NA          23358233 ⋯ NA           \n",
              "  nbmil_pen nbmil_dep ingmil_contr ingmil_aportes ingmil_outras despmil_reseva\n",
              "1 NA        NA        0.01         NA             NA            NA            \n",
              "2 NA        NA          NA         NA             NA            NA            \n",
              "  despmil_penmorte despmil_outras resultado_final\n",
              "1 NA               NA             0.01           \n",
              "2 NA               NA               NA           "
            ],
            "text/latex": "A tibble: 2 × 91\n\\begin{tabular}{lllllllllllllllllllll}\n ente & uf & competencia & plano\\_segreg & dt\\_info & bc\\_pat\\_serv & bc\\_pat\\_serv\\_ug & bc\\_pat\\_apo & bc\\_pat\\_pen & bc\\_serv & ⋯ & nbmil\\_reserva & nbmil\\_pen & nbmil\\_dep & ingmil\\_contr & ingmil\\_aportes & ingmil\\_outras & despmil\\_reseva & despmil\\_penmorte & despmil\\_outras & resultado\\_final\\\\\n <chr> & <chr> & <chr> & <chr> & <chr> & <dbl> & <dbl> & <dbl> & <dbl> & <dbl> & ⋯ & <dbl> & <dbl> & <dbl> & <dbl> & <dbl> & <dbl> & <dbl> & <dbl> & <dbl> & <dbl>\\\\\n\\hline\n\t Governo do Distrito Federal & DF & JAN/2021 & Financeiro     & 22/03/2021 & 662645466 & NA & NA & NA & 662645466 & ⋯ & NA & NA & NA & 0.01 & NA & NA & NA & NA & NA & 0.01\\\\\n\t Governo do Distrito Federal & DF & JAN/2021 & Previdenciário & 22/03/2021 &  23358233 & NA & NA & NA &  23358233 & ⋯ & NA & NA & NA &   NA & NA & NA & NA & NA & NA &   NA\\\\\n\\end{tabular}\n",
            "text/markdown": "\nA tibble: 2 × 91\n\n| ente &lt;chr&gt; | uf &lt;chr&gt; | competencia &lt;chr&gt; | plano_segreg &lt;chr&gt; | dt_info &lt;chr&gt; | bc_pat_serv &lt;dbl&gt; | bc_pat_serv_ug &lt;dbl&gt; | bc_pat_apo &lt;dbl&gt; | bc_pat_pen &lt;dbl&gt; | bc_serv &lt;dbl&gt; | ⋯ ⋯ | nbmil_reserva &lt;dbl&gt; | nbmil_pen &lt;dbl&gt; | nbmil_dep &lt;dbl&gt; | ingmil_contr &lt;dbl&gt; | ingmil_aportes &lt;dbl&gt; | ingmil_outras &lt;dbl&gt; | despmil_reseva &lt;dbl&gt; | despmil_penmorte &lt;dbl&gt; | despmil_outras &lt;dbl&gt; | resultado_final &lt;dbl&gt; |\n|---|---|---|---|---|---|---|---|---|---|---|---|---|---|---|---|---|---|---|---|---|\n| Governo do Distrito Federal | DF | JAN/2021 | Financeiro     | 22/03/2021 | 662645466 | NA | NA | NA | 662645466 | ⋯ | NA | NA | NA | 0.01 | NA | NA | NA | NA | NA | 0.01 |\n| Governo do Distrito Federal | DF | JAN/2021 | Previdenciário | 22/03/2021 |  23358233 | NA | NA | NA |  23358233 | ⋯ | NA | NA | NA |   NA | NA | NA | NA | NA | NA |   NA |\n\n",
            "text/html": [
              "<table class=\"dataframe\">\n",
              "<caption>A tibble: 2 × 91</caption>\n",
              "<thead>\n",
              "\t<tr><th scope=col>ente</th><th scope=col>uf</th><th scope=col>competencia</th><th scope=col>plano_segreg</th><th scope=col>dt_info</th><th scope=col>bc_pat_serv</th><th scope=col>bc_pat_serv_ug</th><th scope=col>bc_pat_apo</th><th scope=col>bc_pat_pen</th><th scope=col>bc_serv</th><th scope=col>⋯</th><th scope=col>nbmil_reserva</th><th scope=col>nbmil_pen</th><th scope=col>nbmil_dep</th><th scope=col>ingmil_contr</th><th scope=col>ingmil_aportes</th><th scope=col>ingmil_outras</th><th scope=col>despmil_reseva</th><th scope=col>despmil_penmorte</th><th scope=col>despmil_outras</th><th scope=col>resultado_final</th></tr>\n",
              "\t<tr><th scope=col>&lt;chr&gt;</th><th scope=col>&lt;chr&gt;</th><th scope=col>&lt;chr&gt;</th><th scope=col>&lt;chr&gt;</th><th scope=col>&lt;chr&gt;</th><th scope=col>&lt;dbl&gt;</th><th scope=col>&lt;dbl&gt;</th><th scope=col>&lt;dbl&gt;</th><th scope=col>&lt;dbl&gt;</th><th scope=col>&lt;dbl&gt;</th><th scope=col>⋯</th><th scope=col>&lt;dbl&gt;</th><th scope=col>&lt;dbl&gt;</th><th scope=col>&lt;dbl&gt;</th><th scope=col>&lt;dbl&gt;</th><th scope=col>&lt;dbl&gt;</th><th scope=col>&lt;dbl&gt;</th><th scope=col>&lt;dbl&gt;</th><th scope=col>&lt;dbl&gt;</th><th scope=col>&lt;dbl&gt;</th><th scope=col>&lt;dbl&gt;</th></tr>\n",
              "</thead>\n",
              "<tbody>\n",
              "\t<tr><td>Governo do Distrito Federal</td><td>DF</td><td>JAN/2021</td><td>Financeiro    </td><td>22/03/2021</td><td>662645466</td><td>NA</td><td>NA</td><td>NA</td><td>662645466</td><td>⋯</td><td>NA</td><td>NA</td><td>NA</td><td>0.01</td><td>NA</td><td>NA</td><td>NA</td><td>NA</td><td>NA</td><td>0.01</td></tr>\n",
              "\t<tr><td>Governo do Distrito Federal</td><td>DF</td><td>JAN/2021</td><td>Previdenciário</td><td>22/03/2021</td><td> 23358233</td><td>NA</td><td>NA</td><td>NA</td><td> 23358233</td><td>⋯</td><td>NA</td><td>NA</td><td>NA</td><td>  NA</td><td>NA</td><td>NA</td><td>NA</td><td>NA</td><td>NA</td><td>  NA</td></tr>\n",
              "</tbody>\n",
              "</table>\n"
            ]
          },
          "metadata": {}
        }
      ]
    },
    {
      "cell_type": "markdown",
      "metadata": {
        "id": "9UQhkgVeeu8D"
      },
      "source": [
        "Como pode ser visto acima, essa base de dados é bem extensa. Possui 91 variáveis, cujo conteúdo será explicitado a seguir, visto que a SPREV não disponibiliza, até o momento, dicionários para suas bases de dados.\n",
        "\n",
        "**Nota** - A descrição das variáveis reflete a minha compreensão das mesmas com base na experiência de trabalho com essa base de dados.\n",
        "\n",
        "Coluna    | Descrição   \n",
        "----------|------------------------------------------------------------------\n",
        "**ente** | Nome do Ente\n",
        "**uf** | Sigla da unidade da federação\n",
        "**competencia** | Mês e ano de competência das receitas e despesas\n",
        "**plano_segreg** | Indica se o ingresso ou dispêndio está vinculado ao plano previdenciário ou ao plano financeiro, Valores possíveis: \"Financeiro\", \"Previdenciário\"\n",
        "**dt_info** | \n",
        "**bc_pat_serv** | Base de cálculo - contribuição patronal - relativa aos servidores ativos  \n",
        "**bc_pat_serv_ug** | Base de cálculo - contribuição patronal - relativa aos servidores da unidade gestora do RPPS\n",
        "**bc_pat_apo** | Base de cálculo - contribução patronal - relativa aos aposentados\n",
        "**bc_pat_pen** | Base de cálculo - contribuição patronal - relativa aos pensionistas\n",
        "**bc_serv** | Base de cálculo - contribuição do servidor ativo\n",
        "**bc_apo** | Base de cálculo - contribuição do aposentado\n",
        "**bc_pen** | Base de cálculo - contribuição do pensionista   \n",
        "**ct_pat_serv** | Contribuição patronal repassada - relativa aos servidores ativos \n",
        "**ct_pat_serv_ug** | Contribuição patronal repassada - relativa a servidores afastados com benefícios pagos pela unidade gestora do RPPS (auxílios)\n",
        "**ct_pat_apo** | Contribuição patronal repassada - relativa aos aposentados\n",
        "**ct_pat_pen** | Contribuição patronal repassada - relativa aos pensionistas\n",
        "**ct_serv** | Contribuição dos servidores ativos\n",
        "**ct_apo** | Contribução dos aposentados\n",
        "**ct_pen** | Contribuição dos pensionistas\n",
        "**deduc_pat** | Deduções da contribuição patronal repassada - relativa benefícios pagos pelo Ente de responsabilidade do RPPS\n",
        "**deduc_pat_outros** | Deduções da contribução patronal repassasa - outras deduções\n",
        "**deduc_seg** | Dedução da contribuição do segurado - relativa benefícios pagos pelo Ente de responsabilidade do RPPS\n",
        "**deduc_seg_outros** | Dedução da contribução do segurado - outras deduções\n",
        "**aportes_amortiz** | Aportes e transferências de recursos - amortização do déficit atuarial\n",
        "**aportes_insufin** | Aportes e transferências de recursos - cobertura de insuficiência financeira\n",
        "**aportes_despadm** | Aportes e transferência de recursos - cobertura de despesas administrativas\n",
        "**aportes_pagtesouro** | Aportes e transferência de recursos - pagamento de benefícios de responsabilidade do tesouro\n",
        "**aportes_outros** | Aportes e transferência de recursos - outros\n",
        "**parcelamentos** | Ingressos de recursos oriundos de parcelamentos de débitos\n",
        "**bcug_pat**\n",
        "**bcug_serv**\n",
        "**bcug_serv_afast**\n",
        "**bcug_apos**\n",
        "**bcug_pen**\n",
        "**ctug_pat**\n",
        "**ctug_serv**\n",
        "**ctug_serv_afast**\n",
        "**ctug_apos**\n",
        "**ctug_pen**\n",
        "**rb_serv**\n",
        "**rb_apos**\n",
        "**rb_pen**\n",
        "**nb_serv** | Número de beneficiários - servidores\n",
        "**nb_apos** | Número de beneficiários - aposentados\n",
        "**nb_pen**  | Número de beneficiários - pensionistas \n",
        "**nb_dep**  | Número de beneficiários - dependentes\n",
        "**ing_contr** | Ingresso de recursos - contribuições\n",
        "**ing_aportes** | Ingresso de recursos - aportes\n",
        "**ing_parc**   | Ingresso de recursos - parcelamentos\n",
        "**ing_acres_leg** | Ingresso de recursos - acréscimos legais de contribuições\n",
        "**ing_contr_cedlic** | Ingresso de recursos - contribuições de servidores cedidos ou licenciados\n",
        "**ing_comprev** | Ingresso de recursos - compensação financeira\n",
        "**ing_aplicfin** | Ingresso de recursos - receitas líquidas de aplicações financeiras e investimentos\n",
        "**ing_ativos** | Ingresso de recursos - rendimento dos demais ativos\n",
        "**ing_outros** | Ingresso de recursos - outras receitas (10.9)\n",
        "**desp_apo**\n",
        "**desp_pen_morte**\n",
        "**desp_auxdoenca**\n",
        "**desp_salmater**\n",
        "**desp_salfam**\n",
        "**desp_auxreclu**\n",
        "**desp_decjud**\n",
        "**desp_beneftesouro**\n",
        "**desp_despadm**\n",
        "**desp_invest**\n",
        "**desp_rest**\n",
        "**desp_comprev**\n",
        "**desp_outras**\n",
        "**total_receita**\n",
        "**total_despesa**\n",
        "**resutado_final**\n",
        "**bcmil_pat_ativ**\n",
        "**bcmil_ativos**\n",
        "**bcmil_reserva**\n",
        "**bcmil_pen**\n",
        "**ctmil_pat**\n",
        "**ctmil_ativos**\n",
        "**ctmil_reserva**\n",
        "**ctmil_pen**\n",
        "**rbmil**\n",
        "**nbmil_ativos**\n",
        "**nbmil_reserva**\n",
        "**nbmil_pen**\n",
        "**nbmil_dep**\n",
        "**ingmil_contr**\n",
        "**ingmil_aportes**\n",
        "**ingmil_outras**\n",
        "**despmil_reseva**\n",
        "**despmil_penmorte**\n",
        "**despmil_outras**\n",
        "**resultado_final**\n",
        "\n"
      ]
    },
    {
      "cell_type": "markdown",
      "metadata": {
        "id": "hkRyMdNHUOcY"
      },
      "source": [
        "Essa base de dados é dividida em \"blocos\", conforme tentaremos mostrar a seguir:\n",
        "\n",
        "Bloco | Descrição  | Variáveis incluídas no bloco\n",
        ":----:|------------|----------------------------------------------------------\n",
        "**0** | Variáveis de identificação do DIPR | `ente` , `uf`, `competencia`, `plano_segreg`, `dt_info`\n",
        "**1** | Bases de cálculo das contribuições devidas |  `bc_pat_serv`, `bc_pat_serv_ug`, `bc_pat_apo`, `bc_pat_pen`, `bc_serv`, `bc_apo, bc_pen` \n",
        "**2** | Contribuições repassadas ao RPPS | `ct_pat_serv`, `ct_pat_serv_ug`, `ct_pat_apo`, `ct_pat_pen`, `ct_serv`, `ct_apo, ct_pen`\n",
        "**3** | \n"
      ]
    },
    {
      "cell_type": "markdown",
      "metadata": {
        "id": "a-6HRxEGUmAc"
      },
      "source": [
        "Essa base de dados não contém o CNPJ do Ente, fato que torna mais arriscado combinar esta base de dados com outras bases, visto que será necessáiro usar os nomes dos entes e a unidade da federação como chave."
      ]
    },
    {
      "cell_type": "markdown",
      "metadata": {
        "id": "WozoO7K38uPJ"
      },
      "source": [
        "# **Possibilidades de Análise**\n",
        "\n",
        "A análise mais imediata que  pode ser realizada nessa base de dados é identificar quais foram os ingressos e desembolsos de recursos que o RPPS reportou ao longo do período analisado.\n",
        "\n",
        "O primeiro passo é identificar as variáveis que se referem a ingressos e desembolsos de recursos. Uma vez identificadas essas variáveis, pode ser interessante verificar o comportamento delas ao longo do tempo com o objetivo de identificar possíveis valores não usuais.\n",
        "\n",
        "Também pode ser interessante verificar quais RPPS não estão encaminhando o DIPR à SPREV.\n",
        "\n",
        "Uma análise um pouco mais elaborada seria verificar a compatibilidade dos valores declarados dessas variáveis com valores informados na Matriz de Saldos Contábeis.\n",
        "\n",
        "Essa é uma análise um pouco mais complexa e deixaremos de _standby_ até abordarmos como recuperar informações da MSC diretamente do SICONFI.\n",
        "\n",
        "Vamos mostrar como identificar os registros da base que se referem a um determinado RPPS."
      ]
    },
    {
      "cell_type": "markdown",
      "metadata": {
        "id": "qzkKQ8wSZhPI"
      },
      "source": [
        "A primeira coisa a ser feita é identificar o RPPS que será objeto de análise. Para tanto, bastará informar a sigla da UF e o nome do Ente. Com isso podemos filtrar os dados desse RPPS. Exemplo:"
      ]
    },
    {
      "cell_type": "code",
      "metadata": {
        "id": "jXJiZkXfZ26h",
        "colab": {
          "base_uri": "https://localhost:8080/",
          "height": 102
        },
        "outputId": "59e46191-1c59-432c-9c32-4fb8e2518bc4"
      },
      "source": [
        "# Indique a sigla da UF do Ente que deseja pesquisar\n",
        "UF <- \"RJ\" \n",
        "\n",
        "# Relação dos Entes nessa UF que encaminharam o DIPR no ano de 2020 à SPREV\n",
        "ENTES <- dipr %>% filter(uf == UF) %>% pull(ente) %>% unique()\n",
        "ENTES"
      ],
      "execution_count": null,
      "outputs": [
        {
          "output_type": "display_data",
          "data": {
            "text/plain": [
              " [1] \"Governo do Estado do Rio de Janeiro\" \"Angra dos Reis\"                     \n",
              " [3] \"Araruama\"                            \"Areal\"                              \n",
              " [5] \"Arraial do Cabo\"                     \"Barra Mansa\"                        \n",
              " [7] \"Bom Jardim\"                          \"Cambuci\"                            \n",
              " [9] \"Cantagalo\"                           \"Carapebus\"                          \n",
              "[11] \"Cardoso Moreira\"                     \"Carmo\"                              \n",
              "[13] \"Casimiro de Abreu\"                   \"Comendador Levy Gasparian\"          \n",
              "[15] \"Conceição de Macabu\"                 \"Cordeiro\"                           \n",
              "[17] \"Duas Barras\"                         \"Duque de Caxias\"                    \n",
              "[19] \"Italva\"                              \"Itaocara\"                           \n",
              "[21] \"Itatiaia\"                            \"Japeri\"                             \n",
              "[23] \"Laje do Muriaé\"                      \"Macaé\"                              \n",
              "[25] \"Mangaratiba\"                         \"Maricá\"                             \n",
              "[27] \"Mendes\"                              \"Mesquita\"                           \n",
              "[29] \"Miguel Pereira\"                      \"Miracema\"                           \n",
              "[31] \"Natividade\"                          \"Nilópolis\"                          \n",
              "[33] \"Niterói\"                             \"Nova Friburgo\"                      \n",
              "[35] \"Nova Iguaçu\"                         \"Paraíba do Sul\"                     \n",
              "[37] \"Paty do Alferes\"                     \"Petrópolis\"                         \n",
              "[39] \"Pinheiral\"                           \"Piraí\"                              \n",
              "[41] \"Porciúncula\"                         \"Quatis\"                             \n",
              "[43] \"Queimados\"                           \"Quissamã\"                           \n",
              "[45] \"Resende\"                             \"Rio Claro\"                          \n",
              "[47] \"Rio das Ostras\"                      \"Santo Antônio de Pádua\"             \n",
              "[49] \"São Fidélis\"                         \"São Gonçalo\"                        \n",
              "[51] \"São João da Barra\"                   \"São José de Ubá\"                    \n",
              "[53] \"São Pedro da Aldeia\"                 \"Sapucaia\"                           \n",
              "[55] \"Saquarema\"                           \"Sumidouro\"                          \n",
              "[57] \"Teresópolis\"                         \"Trajano de Moraes\"                  \n",
              "[59] \"Valença\"                             \"Varre-Sai\"                          \n",
              "[61] \"Vassouras\"                           \"Rio de Janeiro\"                     \n",
              "[63] \"Armação dos Búzios\"                  \"Barra do Piraí\"                     \n",
              "[65] \"Campos dos Goytacazes\"               \"Iguaba Grande\"                      \n",
              "[67] \"Itaboraí\"                            \"Itaperuna\"                          \n",
              "[69] \"Magé\"                                \"Rio Bonito\"                         \n",
              "[71] \"São João de Meriti\"                  \"São Sebastião do Alto\"              \n",
              "[73] \"Seropédica\"                          \"Silva Jardim\"                       \n",
              "[75] \"Volta Redonda\"                       \"Aperibé\"                            \n",
              "[77] \"Belford Roxo\"                        \"Cachoeiras de Macacu\"               \n",
              "[79] \"Itaguaí\"                            "
            ],
            "text/latex": "\\begin{enumerate*}\n\\item 'Governo do Estado do Rio de Janeiro'\n\\item 'Angra dos Reis'\n\\item 'Araruama'\n\\item 'Areal'\n\\item 'Arraial do Cabo'\n\\item 'Barra Mansa'\n\\item 'Bom Jardim'\n\\item 'Cambuci'\n\\item 'Cantagalo'\n\\item 'Carapebus'\n\\item 'Cardoso Moreira'\n\\item 'Carmo'\n\\item 'Casimiro de Abreu'\n\\item 'Comendador Levy Gasparian'\n\\item 'Conceição de Macabu'\n\\item 'Cordeiro'\n\\item 'Duas Barras'\n\\item 'Duque de Caxias'\n\\item 'Italva'\n\\item 'Itaocara'\n\\item 'Itatiaia'\n\\item 'Japeri'\n\\item 'Laje do Muriaé'\n\\item 'Macaé'\n\\item 'Mangaratiba'\n\\item 'Maricá'\n\\item 'Mendes'\n\\item 'Mesquita'\n\\item 'Miguel Pereira'\n\\item 'Miracema'\n\\item 'Natividade'\n\\item 'Nilópolis'\n\\item 'Niterói'\n\\item 'Nova Friburgo'\n\\item 'Nova Iguaçu'\n\\item 'Paraíba do Sul'\n\\item 'Paty do Alferes'\n\\item 'Petrópolis'\n\\item 'Pinheiral'\n\\item 'Piraí'\n\\item 'Porciúncula'\n\\item 'Quatis'\n\\item 'Queimados'\n\\item 'Quissamã'\n\\item 'Resende'\n\\item 'Rio Claro'\n\\item 'Rio das Ostras'\n\\item 'Santo Antônio de Pádua'\n\\item 'São Fidélis'\n\\item 'São Gonçalo'\n\\item 'São João da Barra'\n\\item 'São José de Ubá'\n\\item 'São Pedro da Aldeia'\n\\item 'Sapucaia'\n\\item 'Saquarema'\n\\item 'Sumidouro'\n\\item 'Teresópolis'\n\\item 'Trajano de Moraes'\n\\item 'Valença'\n\\item 'Varre-Sai'\n\\item 'Vassouras'\n\\item 'Rio de Janeiro'\n\\item 'Armação dos Búzios'\n\\item 'Barra do Piraí'\n\\item 'Campos dos Goytacazes'\n\\item 'Iguaba Grande'\n\\item 'Itaboraí'\n\\item 'Itaperuna'\n\\item 'Magé'\n\\item 'Rio Bonito'\n\\item 'São João de Meriti'\n\\item 'São Sebastião do Alto'\n\\item 'Seropédica'\n\\item 'Silva Jardim'\n\\item 'Volta Redonda'\n\\item 'Aperibé'\n\\item 'Belford Roxo'\n\\item 'Cachoeiras de Macacu'\n\\item 'Itaguaí'\n\\end{enumerate*}\n",
            "text/markdown": "1. 'Governo do Estado do Rio de Janeiro'\n2. 'Angra dos Reis'\n3. 'Araruama'\n4. 'Areal'\n5. 'Arraial do Cabo'\n6. 'Barra Mansa'\n7. 'Bom Jardim'\n8. 'Cambuci'\n9. 'Cantagalo'\n10. 'Carapebus'\n11. 'Cardoso Moreira'\n12. 'Carmo'\n13. 'Casimiro de Abreu'\n14. 'Comendador Levy Gasparian'\n15. 'Conceição de Macabu'\n16. 'Cordeiro'\n17. 'Duas Barras'\n18. 'Duque de Caxias'\n19. 'Italva'\n20. 'Itaocara'\n21. 'Itatiaia'\n22. 'Japeri'\n23. 'Laje do Muriaé'\n24. 'Macaé'\n25. 'Mangaratiba'\n26. 'Maricá'\n27. 'Mendes'\n28. 'Mesquita'\n29. 'Miguel Pereira'\n30. 'Miracema'\n31. 'Natividade'\n32. 'Nilópolis'\n33. 'Niterói'\n34. 'Nova Friburgo'\n35. 'Nova Iguaçu'\n36. 'Paraíba do Sul'\n37. 'Paty do Alferes'\n38. 'Petrópolis'\n39. 'Pinheiral'\n40. 'Piraí'\n41. 'Porciúncula'\n42. 'Quatis'\n43. 'Queimados'\n44. 'Quissamã'\n45. 'Resende'\n46. 'Rio Claro'\n47. 'Rio das Ostras'\n48. 'Santo Antônio de Pádua'\n49. 'São Fidélis'\n50. 'São Gonçalo'\n51. 'São João da Barra'\n52. 'São José de Ubá'\n53. 'São Pedro da Aldeia'\n54. 'Sapucaia'\n55. 'Saquarema'\n56. 'Sumidouro'\n57. 'Teresópolis'\n58. 'Trajano de Moraes'\n59. 'Valença'\n60. 'Varre-Sai'\n61. 'Vassouras'\n62. 'Rio de Janeiro'\n63. 'Armação dos Búzios'\n64. 'Barra do Piraí'\n65. 'Campos dos Goytacazes'\n66. 'Iguaba Grande'\n67. 'Itaboraí'\n68. 'Itaperuna'\n69. 'Magé'\n70. 'Rio Bonito'\n71. 'São João de Meriti'\n72. 'São Sebastião do Alto'\n73. 'Seropédica'\n74. 'Silva Jardim'\n75. 'Volta Redonda'\n76. 'Aperibé'\n77. 'Belford Roxo'\n78. 'Cachoeiras de Macacu'\n79. 'Itaguaí'\n\n\n",
            "text/html": [
              "<style>\n",
              ".list-inline {list-style: none; margin:0; padding: 0}\n",
              ".list-inline>li {display: inline-block}\n",
              ".list-inline>li:not(:last-child)::after {content: \"\\00b7\"; padding: 0 .5ex}\n",
              "</style>\n",
              "<ol class=list-inline><li>'Governo do Estado do Rio de Janeiro'</li><li>'Angra dos Reis'</li><li>'Araruama'</li><li>'Areal'</li><li>'Arraial do Cabo'</li><li>'Barra Mansa'</li><li>'Bom Jardim'</li><li>'Cambuci'</li><li>'Cantagalo'</li><li>'Carapebus'</li><li>'Cardoso Moreira'</li><li>'Carmo'</li><li>'Casimiro de Abreu'</li><li>'Comendador Levy Gasparian'</li><li>'Conceição de Macabu'</li><li>'Cordeiro'</li><li>'Duas Barras'</li><li>'Duque de Caxias'</li><li>'Italva'</li><li>'Itaocara'</li><li>'Itatiaia'</li><li>'Japeri'</li><li>'Laje do Muriaé'</li><li>'Macaé'</li><li>'Mangaratiba'</li><li>'Maricá'</li><li>'Mendes'</li><li>'Mesquita'</li><li>'Miguel Pereira'</li><li>'Miracema'</li><li>'Natividade'</li><li>'Nilópolis'</li><li>'Niterói'</li><li>'Nova Friburgo'</li><li>'Nova Iguaçu'</li><li>'Paraíba do Sul'</li><li>'Paty do Alferes'</li><li>'Petrópolis'</li><li>'Pinheiral'</li><li>'Piraí'</li><li>'Porciúncula'</li><li>'Quatis'</li><li>'Queimados'</li><li>'Quissamã'</li><li>'Resende'</li><li>'Rio Claro'</li><li>'Rio das Ostras'</li><li>'Santo Antônio de Pádua'</li><li>'São Fidélis'</li><li>'São Gonçalo'</li><li>'São João da Barra'</li><li>'São José de Ubá'</li><li>'São Pedro da Aldeia'</li><li>'Sapucaia'</li><li>'Saquarema'</li><li>'Sumidouro'</li><li>'Teresópolis'</li><li>'Trajano de Moraes'</li><li>'Valença'</li><li>'Varre-Sai'</li><li>'Vassouras'</li><li>'Rio de Janeiro'</li><li>'Armação dos Búzios'</li><li>'Barra do Piraí'</li><li>'Campos dos Goytacazes'</li><li>'Iguaba Grande'</li><li>'Itaboraí'</li><li>'Itaperuna'</li><li>'Magé'</li><li>'Rio Bonito'</li><li>'São João de Meriti'</li><li>'São Sebastião do Alto'</li><li>'Seropédica'</li><li>'Silva Jardim'</li><li>'Volta Redonda'</li><li>'Aperibé'</li><li>'Belford Roxo'</li><li>'Cachoeiras de Macacu'</li><li>'Itaguaí'</li></ol>\n"
            ]
          },
          "metadata": {}
        }
      ]
    },
    {
      "cell_type": "markdown",
      "metadata": {
        "id": "pPdo98lBa95m"
      },
      "source": [
        "Agora que sabemos quais Entes da UF selecionada estão disponíveis para análise e, importante, como se escreve o nome do Ente, podemos aplicar o filtro de forma mais segura. "
      ]
    },
    {
      "cell_type": "code",
      "metadata": {
        "id": "pwPPzfGQbSbK",
        "colab": {
          "base_uri": "https://localhost:8080/",
          "height": 303
        },
        "outputId": "7052f218-9636-420d-b52f-bea55ae79328"
      },
      "source": [
        "ENTE_SELECIONADO <- 'Niterói'\n",
        "\n",
        "# Filtro\n",
        "dipr_ente <- dipr %>% filter(uf == UF, ente == ENTE_SELECIONADO)\n",
        "head(dipr_ente)"
      ],
      "execution_count": null,
      "outputs": [
        {
          "output_type": "display_data",
          "data": {
            "text/plain": [
              "  ente    uf competencia plano_segreg   dt_info    bc_pat_serv bc_pat_serv_ug\n",
              "1 Niterói RJ JAN/2021    Financeiro     28/04/2021 13242811    NA            \n",
              "2 Niterói RJ JAN/2021    Previdenciário 28/04/2021 27958117    NA            \n",
              "3 Niterói RJ FEV/2021    Financeiro     28/04/2021 13144762    NA            \n",
              "4 Niterói RJ FEV/2021    Previdenciário 28/04/2021 28031309    NA            \n",
              "5 Niterói RJ MAR/2021    Financeiro     17/05/2021 12955750    NA            \n",
              "6 Niterói RJ MAR/2021    Previdenciário 17/05/2021 27860402    NA            \n",
              "  bc_pat_apo bc_pat_pen bc_serv  ⋯ nbmil_reserva nbmil_pen nbmil_dep\n",
              "1 NA         NA         13242811 ⋯ NA            NA        NA       \n",
              "2 NA         NA         27958117 ⋯ NA            NA        NA       \n",
              "3 NA         NA         13144762 ⋯ NA            NA        NA       \n",
              "4 NA         NA         28031309 ⋯ NA            NA        NA       \n",
              "5 NA         NA         12955750 ⋯ NA            NA        NA       \n",
              "6 NA         NA         27860402 ⋯ NA            NA        NA       \n",
              "  ingmil_contr ingmil_aportes ingmil_outras despmil_reseva despmil_penmorte\n",
              "1 NA           NA             NA            NA             NA              \n",
              "2 NA           NA             NA            NA             NA              \n",
              "3 NA           NA             NA            NA             NA              \n",
              "4 NA           NA             NA            NA             NA              \n",
              "5 NA           NA             NA            NA             NA              \n",
              "6 NA           NA             NA            NA             NA              \n",
              "  despmil_outras resultado_final\n",
              "1 NA             NA             \n",
              "2 NA             NA             \n",
              "3 NA             NA             \n",
              "4 NA             NA             \n",
              "5 NA             NA             \n",
              "6 NA             NA             "
            ],
            "text/latex": "A tibble: 6 × 91\n\\begin{tabular}{lllllllllllllllllllll}\n ente & uf & competencia & plano\\_segreg & dt\\_info & bc\\_pat\\_serv & bc\\_pat\\_serv\\_ug & bc\\_pat\\_apo & bc\\_pat\\_pen & bc\\_serv & ⋯ & nbmil\\_reserva & nbmil\\_pen & nbmil\\_dep & ingmil\\_contr & ingmil\\_aportes & ingmil\\_outras & despmil\\_reseva & despmil\\_penmorte & despmil\\_outras & resultado\\_final\\\\\n <chr> & <chr> & <chr> & <chr> & <chr> & <dbl> & <dbl> & <dbl> & <dbl> & <dbl> & ⋯ & <dbl> & <dbl> & <dbl> & <dbl> & <dbl> & <dbl> & <dbl> & <dbl> & <dbl> & <dbl>\\\\\n\\hline\n\t Niterói & RJ & JAN/2021 & Financeiro     & 28/04/2021 & 13242811 & NA & NA & NA & 13242811 & ⋯ & NA & NA & NA & NA & NA & NA & NA & NA & NA & NA\\\\\n\t Niterói & RJ & JAN/2021 & Previdenciário & 28/04/2021 & 27958117 & NA & NA & NA & 27958117 & ⋯ & NA & NA & NA & NA & NA & NA & NA & NA & NA & NA\\\\\n\t Niterói & RJ & FEV/2021 & Financeiro     & 28/04/2021 & 13144762 & NA & NA & NA & 13144762 & ⋯ & NA & NA & NA & NA & NA & NA & NA & NA & NA & NA\\\\\n\t Niterói & RJ & FEV/2021 & Previdenciário & 28/04/2021 & 28031309 & NA & NA & NA & 28031309 & ⋯ & NA & NA & NA & NA & NA & NA & NA & NA & NA & NA\\\\\n\t Niterói & RJ & MAR/2021 & Financeiro     & 17/05/2021 & 12955750 & NA & NA & NA & 12955750 & ⋯ & NA & NA & NA & NA & NA & NA & NA & NA & NA & NA\\\\\n\t Niterói & RJ & MAR/2021 & Previdenciário & 17/05/2021 & 27860402 & NA & NA & NA & 27860402 & ⋯ & NA & NA & NA & NA & NA & NA & NA & NA & NA & NA\\\\\n\\end{tabular}\n",
            "text/markdown": "\nA tibble: 6 × 91\n\n| ente &lt;chr&gt; | uf &lt;chr&gt; | competencia &lt;chr&gt; | plano_segreg &lt;chr&gt; | dt_info &lt;chr&gt; | bc_pat_serv &lt;dbl&gt; | bc_pat_serv_ug &lt;dbl&gt; | bc_pat_apo &lt;dbl&gt; | bc_pat_pen &lt;dbl&gt; | bc_serv &lt;dbl&gt; | ⋯ ⋯ | nbmil_reserva &lt;dbl&gt; | nbmil_pen &lt;dbl&gt; | nbmil_dep &lt;dbl&gt; | ingmil_contr &lt;dbl&gt; | ingmil_aportes &lt;dbl&gt; | ingmil_outras &lt;dbl&gt; | despmil_reseva &lt;dbl&gt; | despmil_penmorte &lt;dbl&gt; | despmil_outras &lt;dbl&gt; | resultado_final &lt;dbl&gt; |\n|---|---|---|---|---|---|---|---|---|---|---|---|---|---|---|---|---|---|---|---|---|\n| Niterói | RJ | JAN/2021 | Financeiro     | 28/04/2021 | 13242811 | NA | NA | NA | 13242811 | ⋯ | NA | NA | NA | NA | NA | NA | NA | NA | NA | NA |\n| Niterói | RJ | JAN/2021 | Previdenciário | 28/04/2021 | 27958117 | NA | NA | NA | 27958117 | ⋯ | NA | NA | NA | NA | NA | NA | NA | NA | NA | NA |\n| Niterói | RJ | FEV/2021 | Financeiro     | 28/04/2021 | 13144762 | NA | NA | NA | 13144762 | ⋯ | NA | NA | NA | NA | NA | NA | NA | NA | NA | NA |\n| Niterói | RJ | FEV/2021 | Previdenciário | 28/04/2021 | 28031309 | NA | NA | NA | 28031309 | ⋯ | NA | NA | NA | NA | NA | NA | NA | NA | NA | NA |\n| Niterói | RJ | MAR/2021 | Financeiro     | 17/05/2021 | 12955750 | NA | NA | NA | 12955750 | ⋯ | NA | NA | NA | NA | NA | NA | NA | NA | NA | NA |\n| Niterói | RJ | MAR/2021 | Previdenciário | 17/05/2021 | 27860402 | NA | NA | NA | 27860402 | ⋯ | NA | NA | NA | NA | NA | NA | NA | NA | NA | NA |\n\n",
            "text/html": [
              "<table class=\"dataframe\">\n",
              "<caption>A tibble: 6 × 91</caption>\n",
              "<thead>\n",
              "\t<tr><th scope=col>ente</th><th scope=col>uf</th><th scope=col>competencia</th><th scope=col>plano_segreg</th><th scope=col>dt_info</th><th scope=col>bc_pat_serv</th><th scope=col>bc_pat_serv_ug</th><th scope=col>bc_pat_apo</th><th scope=col>bc_pat_pen</th><th scope=col>bc_serv</th><th scope=col>⋯</th><th scope=col>nbmil_reserva</th><th scope=col>nbmil_pen</th><th scope=col>nbmil_dep</th><th scope=col>ingmil_contr</th><th scope=col>ingmil_aportes</th><th scope=col>ingmil_outras</th><th scope=col>despmil_reseva</th><th scope=col>despmil_penmorte</th><th scope=col>despmil_outras</th><th scope=col>resultado_final</th></tr>\n",
              "\t<tr><th scope=col>&lt;chr&gt;</th><th scope=col>&lt;chr&gt;</th><th scope=col>&lt;chr&gt;</th><th scope=col>&lt;chr&gt;</th><th scope=col>&lt;chr&gt;</th><th scope=col>&lt;dbl&gt;</th><th scope=col>&lt;dbl&gt;</th><th scope=col>&lt;dbl&gt;</th><th scope=col>&lt;dbl&gt;</th><th scope=col>&lt;dbl&gt;</th><th scope=col>⋯</th><th scope=col>&lt;dbl&gt;</th><th scope=col>&lt;dbl&gt;</th><th scope=col>&lt;dbl&gt;</th><th scope=col>&lt;dbl&gt;</th><th scope=col>&lt;dbl&gt;</th><th scope=col>&lt;dbl&gt;</th><th scope=col>&lt;dbl&gt;</th><th scope=col>&lt;dbl&gt;</th><th scope=col>&lt;dbl&gt;</th><th scope=col>&lt;dbl&gt;</th></tr>\n",
              "</thead>\n",
              "<tbody>\n",
              "\t<tr><td>Niterói</td><td>RJ</td><td>JAN/2021</td><td>Financeiro    </td><td>28/04/2021</td><td>13242811</td><td>NA</td><td>NA</td><td>NA</td><td>13242811</td><td>⋯</td><td>NA</td><td>NA</td><td>NA</td><td>NA</td><td>NA</td><td>NA</td><td>NA</td><td>NA</td><td>NA</td><td>NA</td></tr>\n",
              "\t<tr><td>Niterói</td><td>RJ</td><td>JAN/2021</td><td>Previdenciário</td><td>28/04/2021</td><td>27958117</td><td>NA</td><td>NA</td><td>NA</td><td>27958117</td><td>⋯</td><td>NA</td><td>NA</td><td>NA</td><td>NA</td><td>NA</td><td>NA</td><td>NA</td><td>NA</td><td>NA</td><td>NA</td></tr>\n",
              "\t<tr><td>Niterói</td><td>RJ</td><td>FEV/2021</td><td>Financeiro    </td><td>28/04/2021</td><td>13144762</td><td>NA</td><td>NA</td><td>NA</td><td>13144762</td><td>⋯</td><td>NA</td><td>NA</td><td>NA</td><td>NA</td><td>NA</td><td>NA</td><td>NA</td><td>NA</td><td>NA</td><td>NA</td></tr>\n",
              "\t<tr><td>Niterói</td><td>RJ</td><td>FEV/2021</td><td>Previdenciário</td><td>28/04/2021</td><td>28031309</td><td>NA</td><td>NA</td><td>NA</td><td>28031309</td><td>⋯</td><td>NA</td><td>NA</td><td>NA</td><td>NA</td><td>NA</td><td>NA</td><td>NA</td><td>NA</td><td>NA</td><td>NA</td></tr>\n",
              "\t<tr><td>Niterói</td><td>RJ</td><td>MAR/2021</td><td>Financeiro    </td><td>17/05/2021</td><td>12955750</td><td>NA</td><td>NA</td><td>NA</td><td>12955750</td><td>⋯</td><td>NA</td><td>NA</td><td>NA</td><td>NA</td><td>NA</td><td>NA</td><td>NA</td><td>NA</td><td>NA</td><td>NA</td></tr>\n",
              "\t<tr><td>Niterói</td><td>RJ</td><td>MAR/2021</td><td>Previdenciário</td><td>17/05/2021</td><td>27860402</td><td>NA</td><td>NA</td><td>NA</td><td>27860402</td><td>⋯</td><td>NA</td><td>NA</td><td>NA</td><td>NA</td><td>NA</td><td>NA</td><td>NA</td><td>NA</td><td>NA</td><td>NA</td></tr>\n",
              "</tbody>\n",
              "</table>\n"
            ]
          },
          "metadata": {}
        }
      ]
    },
    {
      "cell_type": "markdown",
      "metadata": {
        "id": "VTGSgH5LctUM"
      },
      "source": [
        "Considerando que existem variáveis que não possuem valores, seria bom retirá-las da base para que consigamos identificar exatamente quais variáveis foram utilizadas pelo RPPS selecionado.\n",
        "\n",
        "Isso pode ser feito da seguinte forma:"
      ]
    },
    {
      "cell_type": "code",
      "metadata": {
        "id": "0nbieezvdHZx",
        "colab": {
          "base_uri": "https://localhost:8080/",
          "height": 303
        },
        "outputId": "2900368c-e4e7-4256-9e4b-0bdb436368ef"
      },
      "source": [
        "dipr_ente <- dipr_ente %>%\n",
        "                      select_if(~!all(is.na(.))) %>%\n",
        "                      arrange(plano_segreg)\n",
        "\n",
        "head(dipr_ente)"
      ],
      "execution_count": null,
      "outputs": [
        {
          "output_type": "display_data",
          "data": {
            "text/plain": [
              "  ente    uf competencia plano_segreg dt_info    bc_pat_serv bc_serv \n",
              "1 Niterói RJ JAN/2021    Financeiro   28/04/2021 13242811    13242811\n",
              "2 Niterói RJ FEV/2021    Financeiro   28/04/2021 13144762    13144762\n",
              "3 Niterói RJ MAR/2021    Financeiro   17/05/2021 12955750    12955750\n",
              "4 Niterói RJ ABR/2021    Financeiro   17/05/2021 12976304    12976304\n",
              "5 Niterói RJ MAI/2021    Financeiro   29/07/2021 12948239    12948239\n",
              "6 Niterói RJ JUN/2021    Financeiro   29/07/2021 12826124    12826124\n",
              "  ct_pat_serv ct_serv aportes_amortiz ⋯ ing_outros  desp_apo desp_pen_morte\n",
              "1 2196982     1655351 NA              ⋯    55375.60 19469732  8091794      \n",
              "2 2180716     1643095 NA              ⋯     4594.29 19574032  8458498      \n",
              "3 2149895     1619862 NA              ⋯ 12002573.60 19611218  8359165      \n",
              "4 2152766     1622031 NA              ⋯ 12502000.04 19673274  8323683      \n",
              "5 2148113     1618522 NA              ⋯ 13028199.55 19732684  8329688      \n",
              "6 2127854     1603258 NA              ⋯ 16804930.69 29454775 12532837      \n",
              "  desp_decjud desp_despadm desp_rest desp_comprev total_receita total_despesa\n",
              "1 19146.27    349839.1      2608.38        NA      4986094      27933120     \n",
              "2 10925.40    664116.1       966.82  36659.14      9704846      28745198     \n",
              "3       NA    664132.0     16371.18   6027.83     18822454      28656914     \n",
              "4 35633.79    747218.7      1047.64  63523.09     19320593      28844380     \n",
              "5 16017.18    719709.3     29954.19   6771.08     19868174      28834824     \n",
              "6       NA    959007.6     10651.06   6771.08     23617184      42964042     \n",
              "  resutado_final\n",
              "1 -22947026     \n",
              "2 -19040351     \n",
              "3  -9834461     \n",
              "4  -9523787     \n",
              "5  -8966650     \n",
              "6 -19346859     "
            ],
            "text/latex": "A tibble: 6 × 44\n\\begin{tabular}{lllllllllllllllllllll}\n ente & uf & competencia & plano\\_segreg & dt\\_info & bc\\_pat\\_serv & bc\\_serv & ct\\_pat\\_serv & ct\\_serv & aportes\\_amortiz & ⋯ & ing\\_outros & desp\\_apo & desp\\_pen\\_morte & desp\\_decjud & desp\\_despadm & desp\\_rest & desp\\_comprev & total\\_receita & total\\_despesa & resutado\\_final\\\\\n <chr> & <chr> & <chr> & <chr> & <chr> & <dbl> & <dbl> & <dbl> & <dbl> & <dbl> & ⋯ & <dbl> & <dbl> & <dbl> & <dbl> & <dbl> & <dbl> & <dbl> & <dbl> & <dbl> & <dbl>\\\\\n\\hline\n\t Niterói & RJ & JAN/2021 & Financeiro & 28/04/2021 & 13242811 & 13242811 & 2196982 & 1655351 & NA & ⋯ &    55375.60 & 19469732 &  8091794 & 19146.27 & 349839.1 &  2608.38 &       NA &  4986094 & 27933120 & -22947026\\\\\n\t Niterói & RJ & FEV/2021 & Financeiro & 28/04/2021 & 13144762 & 13144762 & 2180716 & 1643095 & NA & ⋯ &     4594.29 & 19574032 &  8458498 & 10925.40 & 664116.1 &   966.82 & 36659.14 &  9704846 & 28745198 & -19040351\\\\\n\t Niterói & RJ & MAR/2021 & Financeiro & 17/05/2021 & 12955750 & 12955750 & 2149895 & 1619862 & NA & ⋯ & 12002573.60 & 19611218 &  8359165 &       NA & 664132.0 & 16371.18 &  6027.83 & 18822454 & 28656914 &  -9834461\\\\\n\t Niterói & RJ & ABR/2021 & Financeiro & 17/05/2021 & 12976304 & 12976304 & 2152766 & 1622031 & NA & ⋯ & 12502000.04 & 19673274 &  8323683 & 35633.79 & 747218.7 &  1047.64 & 63523.09 & 19320593 & 28844380 &  -9523787\\\\\n\t Niterói & RJ & MAI/2021 & Financeiro & 29/07/2021 & 12948239 & 12948239 & 2148113 & 1618522 & NA & ⋯ & 13028199.55 & 19732684 &  8329688 & 16017.18 & 719709.3 & 29954.19 &  6771.08 & 19868174 & 28834824 &  -8966650\\\\\n\t Niterói & RJ & JUN/2021 & Financeiro & 29/07/2021 & 12826124 & 12826124 & 2127854 & 1603258 & NA & ⋯ & 16804930.69 & 29454775 & 12532837 &       NA & 959007.6 & 10651.06 &  6771.08 & 23617184 & 42964042 & -19346859\\\\\n\\end{tabular}\n",
            "text/markdown": "\nA tibble: 6 × 44\n\n| ente &lt;chr&gt; | uf &lt;chr&gt; | competencia &lt;chr&gt; | plano_segreg &lt;chr&gt; | dt_info &lt;chr&gt; | bc_pat_serv &lt;dbl&gt; | bc_serv &lt;dbl&gt; | ct_pat_serv &lt;dbl&gt; | ct_serv &lt;dbl&gt; | aportes_amortiz &lt;dbl&gt; | ⋯ ⋯ | ing_outros &lt;dbl&gt; | desp_apo &lt;dbl&gt; | desp_pen_morte &lt;dbl&gt; | desp_decjud &lt;dbl&gt; | desp_despadm &lt;dbl&gt; | desp_rest &lt;dbl&gt; | desp_comprev &lt;dbl&gt; | total_receita &lt;dbl&gt; | total_despesa &lt;dbl&gt; | resutado_final &lt;dbl&gt; |\n|---|---|---|---|---|---|---|---|---|---|---|---|---|---|---|---|---|---|---|---|---|\n| Niterói | RJ | JAN/2021 | Financeiro | 28/04/2021 | 13242811 | 13242811 | 2196982 | 1655351 | NA | ⋯ |    55375.60 | 19469732 |  8091794 | 19146.27 | 349839.1 |  2608.38 |       NA |  4986094 | 27933120 | -22947026 |\n| Niterói | RJ | FEV/2021 | Financeiro | 28/04/2021 | 13144762 | 13144762 | 2180716 | 1643095 | NA | ⋯ |     4594.29 | 19574032 |  8458498 | 10925.40 | 664116.1 |   966.82 | 36659.14 |  9704846 | 28745198 | -19040351 |\n| Niterói | RJ | MAR/2021 | Financeiro | 17/05/2021 | 12955750 | 12955750 | 2149895 | 1619862 | NA | ⋯ | 12002573.60 | 19611218 |  8359165 |       NA | 664132.0 | 16371.18 |  6027.83 | 18822454 | 28656914 |  -9834461 |\n| Niterói | RJ | ABR/2021 | Financeiro | 17/05/2021 | 12976304 | 12976304 | 2152766 | 1622031 | NA | ⋯ | 12502000.04 | 19673274 |  8323683 | 35633.79 | 747218.7 |  1047.64 | 63523.09 | 19320593 | 28844380 |  -9523787 |\n| Niterói | RJ | MAI/2021 | Financeiro | 29/07/2021 | 12948239 | 12948239 | 2148113 | 1618522 | NA | ⋯ | 13028199.55 | 19732684 |  8329688 | 16017.18 | 719709.3 | 29954.19 |  6771.08 | 19868174 | 28834824 |  -8966650 |\n| Niterói | RJ | JUN/2021 | Financeiro | 29/07/2021 | 12826124 | 12826124 | 2127854 | 1603258 | NA | ⋯ | 16804930.69 | 29454775 | 12532837 |       NA | 959007.6 | 10651.06 |  6771.08 | 23617184 | 42964042 | -19346859 |\n\n",
            "text/html": [
              "<table class=\"dataframe\">\n",
              "<caption>A tibble: 6 × 44</caption>\n",
              "<thead>\n",
              "\t<tr><th scope=col>ente</th><th scope=col>uf</th><th scope=col>competencia</th><th scope=col>plano_segreg</th><th scope=col>dt_info</th><th scope=col>bc_pat_serv</th><th scope=col>bc_serv</th><th scope=col>ct_pat_serv</th><th scope=col>ct_serv</th><th scope=col>aportes_amortiz</th><th scope=col>⋯</th><th scope=col>ing_outros</th><th scope=col>desp_apo</th><th scope=col>desp_pen_morte</th><th scope=col>desp_decjud</th><th scope=col>desp_despadm</th><th scope=col>desp_rest</th><th scope=col>desp_comprev</th><th scope=col>total_receita</th><th scope=col>total_despesa</th><th scope=col>resutado_final</th></tr>\n",
              "\t<tr><th scope=col>&lt;chr&gt;</th><th scope=col>&lt;chr&gt;</th><th scope=col>&lt;chr&gt;</th><th scope=col>&lt;chr&gt;</th><th scope=col>&lt;chr&gt;</th><th scope=col>&lt;dbl&gt;</th><th scope=col>&lt;dbl&gt;</th><th scope=col>&lt;dbl&gt;</th><th scope=col>&lt;dbl&gt;</th><th scope=col>&lt;dbl&gt;</th><th scope=col>⋯</th><th scope=col>&lt;dbl&gt;</th><th scope=col>&lt;dbl&gt;</th><th scope=col>&lt;dbl&gt;</th><th scope=col>&lt;dbl&gt;</th><th scope=col>&lt;dbl&gt;</th><th scope=col>&lt;dbl&gt;</th><th scope=col>&lt;dbl&gt;</th><th scope=col>&lt;dbl&gt;</th><th scope=col>&lt;dbl&gt;</th><th scope=col>&lt;dbl&gt;</th></tr>\n",
              "</thead>\n",
              "<tbody>\n",
              "\t<tr><td>Niterói</td><td>RJ</td><td>JAN/2021</td><td>Financeiro</td><td>28/04/2021</td><td>13242811</td><td>13242811</td><td>2196982</td><td>1655351</td><td>NA</td><td>⋯</td><td>   55375.60</td><td>19469732</td><td> 8091794</td><td>19146.27</td><td>349839.1</td><td> 2608.38</td><td>      NA</td><td> 4986094</td><td>27933120</td><td>-22947026</td></tr>\n",
              "\t<tr><td>Niterói</td><td>RJ</td><td>FEV/2021</td><td>Financeiro</td><td>28/04/2021</td><td>13144762</td><td>13144762</td><td>2180716</td><td>1643095</td><td>NA</td><td>⋯</td><td>    4594.29</td><td>19574032</td><td> 8458498</td><td>10925.40</td><td>664116.1</td><td>  966.82</td><td>36659.14</td><td> 9704846</td><td>28745198</td><td>-19040351</td></tr>\n",
              "\t<tr><td>Niterói</td><td>RJ</td><td>MAR/2021</td><td>Financeiro</td><td>17/05/2021</td><td>12955750</td><td>12955750</td><td>2149895</td><td>1619862</td><td>NA</td><td>⋯</td><td>12002573.60</td><td>19611218</td><td> 8359165</td><td>      NA</td><td>664132.0</td><td>16371.18</td><td> 6027.83</td><td>18822454</td><td>28656914</td><td> -9834461</td></tr>\n",
              "\t<tr><td>Niterói</td><td>RJ</td><td>ABR/2021</td><td>Financeiro</td><td>17/05/2021</td><td>12976304</td><td>12976304</td><td>2152766</td><td>1622031</td><td>NA</td><td>⋯</td><td>12502000.04</td><td>19673274</td><td> 8323683</td><td>35633.79</td><td>747218.7</td><td> 1047.64</td><td>63523.09</td><td>19320593</td><td>28844380</td><td> -9523787</td></tr>\n",
              "\t<tr><td>Niterói</td><td>RJ</td><td>MAI/2021</td><td>Financeiro</td><td>29/07/2021</td><td>12948239</td><td>12948239</td><td>2148113</td><td>1618522</td><td>NA</td><td>⋯</td><td>13028199.55</td><td>19732684</td><td> 8329688</td><td>16017.18</td><td>719709.3</td><td>29954.19</td><td> 6771.08</td><td>19868174</td><td>28834824</td><td> -8966650</td></tr>\n",
              "\t<tr><td>Niterói</td><td>RJ</td><td>JUN/2021</td><td>Financeiro</td><td>29/07/2021</td><td>12826124</td><td>12826124</td><td>2127854</td><td>1603258</td><td>NA</td><td>⋯</td><td>16804930.69</td><td>29454775</td><td>12532837</td><td>      NA</td><td>959007.6</td><td>10651.06</td><td> 6771.08</td><td>23617184</td><td>42964042</td><td>-19346859</td></tr>\n",
              "</tbody>\n",
              "</table>\n"
            ]
          },
          "metadata": {}
        }
      ]
    },
    {
      "cell_type": "code",
      "metadata": {
        "id": "MPI3ppKe7-Lq",
        "colab": {
          "base_uri": "https://localhost:8080/",
          "height": 68
        },
        "outputId": "53254844-c8d2-4354-8cf0-e06dde50e724"
      },
      "source": [
        "# Variáveis preenchidas\n",
        "names(dipr_ente)"
      ],
      "execution_count": null,
      "outputs": [
        {
          "output_type": "display_data",
          "data": {
            "text/plain": [
              " [1] \"ente\"             \"uf\"               \"competencia\"      \"plano_segreg\"    \n",
              " [5] \"dt_info\"          \"bc_pat_serv\"      \"bc_serv\"          \"ct_pat_serv\"     \n",
              " [9] \"ct_serv\"          \"aportes_amortiz\"  \"aportes_insufin\"  \"aportes_despadm\" \n",
              "[13] \"parcelamentos\"    \"bcug_pat\"         \"bcug_serv\"        \"bcug_apos\"       \n",
              "[17] \"bcug_pen\"         \"ctug_pat\"         \"ctug_serv\"        \"ctug_apos\"       \n",
              "[21] \"ctug_pen\"         \"rb_serv\"          \"rb_apos\"          \"rb_pen\"          \n",
              "[25] \"nb_serv\"          \"nb_apos\"          \"nb_pen\"           \"nb_dep\"          \n",
              "[29] \"ing_contr\"        \"ing_aportes\"      \"ing_parc\"         \"ing_contr_cedlic\"\n",
              "[33] \"ing_comprev\"      \"ing_aplicfin\"     \"ing_outros\"       \"desp_apo\"        \n",
              "[37] \"desp_pen_morte\"   \"desp_decjud\"      \"desp_despadm\"     \"desp_rest\"       \n",
              "[41] \"desp_comprev\"     \"total_receita\"    \"total_despesa\"    \"resutado_final\"  "
            ],
            "text/latex": "\\begin{enumerate*}\n\\item 'ente'\n\\item 'uf'\n\\item 'competencia'\n\\item 'plano\\_segreg'\n\\item 'dt\\_info'\n\\item 'bc\\_pat\\_serv'\n\\item 'bc\\_serv'\n\\item 'ct\\_pat\\_serv'\n\\item 'ct\\_serv'\n\\item 'aportes\\_amortiz'\n\\item 'aportes\\_insufin'\n\\item 'aportes\\_despadm'\n\\item 'parcelamentos'\n\\item 'bcug\\_pat'\n\\item 'bcug\\_serv'\n\\item 'bcug\\_apos'\n\\item 'bcug\\_pen'\n\\item 'ctug\\_pat'\n\\item 'ctug\\_serv'\n\\item 'ctug\\_apos'\n\\item 'ctug\\_pen'\n\\item 'rb\\_serv'\n\\item 'rb\\_apos'\n\\item 'rb\\_pen'\n\\item 'nb\\_serv'\n\\item 'nb\\_apos'\n\\item 'nb\\_pen'\n\\item 'nb\\_dep'\n\\item 'ing\\_contr'\n\\item 'ing\\_aportes'\n\\item 'ing\\_parc'\n\\item 'ing\\_contr\\_cedlic'\n\\item 'ing\\_comprev'\n\\item 'ing\\_aplicfin'\n\\item 'ing\\_outros'\n\\item 'desp\\_apo'\n\\item 'desp\\_pen\\_morte'\n\\item 'desp\\_decjud'\n\\item 'desp\\_despadm'\n\\item 'desp\\_rest'\n\\item 'desp\\_comprev'\n\\item 'total\\_receita'\n\\item 'total\\_despesa'\n\\item 'resutado\\_final'\n\\end{enumerate*}\n",
            "text/markdown": "1. 'ente'\n2. 'uf'\n3. 'competencia'\n4. 'plano_segreg'\n5. 'dt_info'\n6. 'bc_pat_serv'\n7. 'bc_serv'\n8. 'ct_pat_serv'\n9. 'ct_serv'\n10. 'aportes_amortiz'\n11. 'aportes_insufin'\n12. 'aportes_despadm'\n13. 'parcelamentos'\n14. 'bcug_pat'\n15. 'bcug_serv'\n16. 'bcug_apos'\n17. 'bcug_pen'\n18. 'ctug_pat'\n19. 'ctug_serv'\n20. 'ctug_apos'\n21. 'ctug_pen'\n22. 'rb_serv'\n23. 'rb_apos'\n24. 'rb_pen'\n25. 'nb_serv'\n26. 'nb_apos'\n27. 'nb_pen'\n28. 'nb_dep'\n29. 'ing_contr'\n30. 'ing_aportes'\n31. 'ing_parc'\n32. 'ing_contr_cedlic'\n33. 'ing_comprev'\n34. 'ing_aplicfin'\n35. 'ing_outros'\n36. 'desp_apo'\n37. 'desp_pen_morte'\n38. 'desp_decjud'\n39. 'desp_despadm'\n40. 'desp_rest'\n41. 'desp_comprev'\n42. 'total_receita'\n43. 'total_despesa'\n44. 'resutado_final'\n\n\n",
            "text/html": [
              "<style>\n",
              ".list-inline {list-style: none; margin:0; padding: 0}\n",
              ".list-inline>li {display: inline-block}\n",
              ".list-inline>li:not(:last-child)::after {content: \"\\00b7\"; padding: 0 .5ex}\n",
              "</style>\n",
              "<ol class=list-inline><li>'ente'</li><li>'uf'</li><li>'competencia'</li><li>'plano_segreg'</li><li>'dt_info'</li><li>'bc_pat_serv'</li><li>'bc_serv'</li><li>'ct_pat_serv'</li><li>'ct_serv'</li><li>'aportes_amortiz'</li><li>'aportes_insufin'</li><li>'aportes_despadm'</li><li>'parcelamentos'</li><li>'bcug_pat'</li><li>'bcug_serv'</li><li>'bcug_apos'</li><li>'bcug_pen'</li><li>'ctug_pat'</li><li>'ctug_serv'</li><li>'ctug_apos'</li><li>'ctug_pen'</li><li>'rb_serv'</li><li>'rb_apos'</li><li>'rb_pen'</li><li>'nb_serv'</li><li>'nb_apos'</li><li>'nb_pen'</li><li>'nb_dep'</li><li>'ing_contr'</li><li>'ing_aportes'</li><li>'ing_parc'</li><li>'ing_contr_cedlic'</li><li>'ing_comprev'</li><li>'ing_aplicfin'</li><li>'ing_outros'</li><li>'desp_apo'</li><li>'desp_pen_morte'</li><li>'desp_decjud'</li><li>'desp_despadm'</li><li>'desp_rest'</li><li>'desp_comprev'</li><li>'total_receita'</li><li>'total_despesa'</li><li>'resutado_final'</li></ol>\n"
            ]
          },
          "metadata": {}
        }
      ]
    },
    {
      "cell_type": "markdown",
      "metadata": {
        "id": "MMfzfkgpgYU1"
      },
      "source": [
        "As variáveis disponíveis para análise estão listadas acima. Deve-se, não obstante, observar que alguns RPPS apresentam segregação de massas e dessa forma será necessário separar os dados de cada plano.\n",
        "\n",
        "Se o Ente que você está pesquisando enquadrar-se nessa situação, a separação pode ser feita da seguinte forma:"
      ]
    },
    {
      "cell_type": "code",
      "metadata": {
        "id": "58-tsKBxIIJC"
      },
      "source": [
        "# Código a ser executado caso o Ente apresente segregação de massas\n",
        "dipr_ente_prev <- dipr_ente %>% filter(plano_segreg == \"Previdenciário\")\n",
        "dipr_ente_fin  <- dipr_ente %>% filter(plano_segreg == \"Financeiro\")"
      ],
      "execution_count": null,
      "outputs": []
    },
    {
      "cell_type": "code",
      "metadata": {
        "id": "PLVTClc0I2px",
        "colab": {
          "base_uri": "https://localhost:8080/",
          "height": 303
        },
        "outputId": "e17fc062-65a4-4a88-976e-63010ac28a61"
      },
      "source": [
        "head(dipr_ente_prev)"
      ],
      "execution_count": null,
      "outputs": [
        {
          "output_type": "display_data",
          "data": {
            "text/plain": [
              "  ente    uf competencia plano_segreg   dt_info    bc_pat_serv bc_serv \n",
              "1 Niterói RJ JAN/2021    Previdenciário 28/04/2021 27958117    27958117\n",
              "2 Niterói RJ FEV/2021    Previdenciário 28/04/2021 28031309    28031309\n",
              "3 Niterói RJ MAR/2021    Previdenciário 17/05/2021 27860402    27860402\n",
              "4 Niterói RJ ABR/2021    Previdenciário 17/05/2021 28267342    28267342\n",
              "5 Niterói RJ MAI/2021    Previdenciário 29/07/2021 28069165    28069165\n",
              "6 Niterói RJ JUN/2021    Previdenciário 29/07/2021 28078793    28078793\n",
              "  ct_pat_serv ct_serv aportes_amortiz ⋯ ing_outros desp_apo  desp_pen_morte\n",
              "1 4638252     3494765  762096.1       ⋯        NA   731957.2 209260.0      \n",
              "2 4650394     3503914        NA       ⋯        NA   748424.0 207531.3      \n",
              "3 4621505     3482136        NA       ⋯        NA   755172.8 212065.5      \n",
              "4 4689552     3533413 3143374.9       ⋯  23326.33   778853.3 239331.3      \n",
              "5 4656674     3508637  804494.1       ⋯ 107951.35   782523.5 216830.2      \n",
              "6 4658272     3509840  814495.4       ⋯  10723.93  1208203.8 324725.0      \n",
              "  desp_decjud desp_despadm desp_rest desp_comprev total_receita total_despesa\n",
              "1 NA          NA            886.04   NA            8925762       942103.2    \n",
              "2 NA          NA                NA   NA            8184423       955955.3    \n",
              "3 NA          NA           1937.85   NA            8135225       969176.1    \n",
              "4 NA          NA            483.16   NA           11422074      1018667.8    \n",
              "5 NA          NA           2807.64   NA            9113545      1002161.3    \n",
              "6 NA          NA           3747.50   NA            9026984      1536676.3    \n",
              "  resutado_final\n",
              "1  7983659      \n",
              "2  7228468      \n",
              "3  7166048      \n",
              "4 10403406      \n",
              "5  8111384      \n",
              "6  7490307      "
            ],
            "text/latex": "A tibble: 6 × 44\n\\begin{tabular}{lllllllllllllllllllll}\n ente & uf & competencia & plano\\_segreg & dt\\_info & bc\\_pat\\_serv & bc\\_serv & ct\\_pat\\_serv & ct\\_serv & aportes\\_amortiz & ⋯ & ing\\_outros & desp\\_apo & desp\\_pen\\_morte & desp\\_decjud & desp\\_despadm & desp\\_rest & desp\\_comprev & total\\_receita & total\\_despesa & resutado\\_final\\\\\n <chr> & <chr> & <chr> & <chr> & <chr> & <dbl> & <dbl> & <dbl> & <dbl> & <dbl> & ⋯ & <dbl> & <dbl> & <dbl> & <dbl> & <dbl> & <dbl> & <dbl> & <dbl> & <dbl> & <dbl>\\\\\n\\hline\n\t Niterói & RJ & JAN/2021 & Previdenciário & 28/04/2021 & 27958117 & 27958117 & 4638252 & 3494765 &  762096.1 & ⋯ &        NA &  731957.2 & 209260.0 & NA & NA &  886.04 & NA &  8925762 &  942103.2 &  7983659\\\\\n\t Niterói & RJ & FEV/2021 & Previdenciário & 28/04/2021 & 28031309 & 28031309 & 4650394 & 3503914 &        NA & ⋯ &        NA &  748424.0 & 207531.3 & NA & NA &      NA & NA &  8184423 &  955955.3 &  7228468\\\\\n\t Niterói & RJ & MAR/2021 & Previdenciário & 17/05/2021 & 27860402 & 27860402 & 4621505 & 3482136 &        NA & ⋯ &        NA &  755172.8 & 212065.5 & NA & NA & 1937.85 & NA &  8135225 &  969176.1 &  7166048\\\\\n\t Niterói & RJ & ABR/2021 & Previdenciário & 17/05/2021 & 28267342 & 28267342 & 4689552 & 3533413 & 3143374.9 & ⋯ &  23326.33 &  778853.3 & 239331.3 & NA & NA &  483.16 & NA & 11422074 & 1018667.8 & 10403406\\\\\n\t Niterói & RJ & MAI/2021 & Previdenciário & 29/07/2021 & 28069165 & 28069165 & 4656674 & 3508637 &  804494.1 & ⋯ & 107951.35 &  782523.5 & 216830.2 & NA & NA & 2807.64 & NA &  9113545 & 1002161.3 &  8111384\\\\\n\t Niterói & RJ & JUN/2021 & Previdenciário & 29/07/2021 & 28078793 & 28078793 & 4658272 & 3509840 &  814495.4 & ⋯ &  10723.93 & 1208203.8 & 324725.0 & NA & NA & 3747.50 & NA &  9026984 & 1536676.3 &  7490307\\\\\n\\end{tabular}\n",
            "text/markdown": "\nA tibble: 6 × 44\n\n| ente &lt;chr&gt; | uf &lt;chr&gt; | competencia &lt;chr&gt; | plano_segreg &lt;chr&gt; | dt_info &lt;chr&gt; | bc_pat_serv &lt;dbl&gt; | bc_serv &lt;dbl&gt; | ct_pat_serv &lt;dbl&gt; | ct_serv &lt;dbl&gt; | aportes_amortiz &lt;dbl&gt; | ⋯ ⋯ | ing_outros &lt;dbl&gt; | desp_apo &lt;dbl&gt; | desp_pen_morte &lt;dbl&gt; | desp_decjud &lt;dbl&gt; | desp_despadm &lt;dbl&gt; | desp_rest &lt;dbl&gt; | desp_comprev &lt;dbl&gt; | total_receita &lt;dbl&gt; | total_despesa &lt;dbl&gt; | resutado_final &lt;dbl&gt; |\n|---|---|---|---|---|---|---|---|---|---|---|---|---|---|---|---|---|---|---|---|---|\n| Niterói | RJ | JAN/2021 | Previdenciário | 28/04/2021 | 27958117 | 27958117 | 4638252 | 3494765 |  762096.1 | ⋯ |        NA |  731957.2 | 209260.0 | NA | NA |  886.04 | NA |  8925762 |  942103.2 |  7983659 |\n| Niterói | RJ | FEV/2021 | Previdenciário | 28/04/2021 | 28031309 | 28031309 | 4650394 | 3503914 |        NA | ⋯ |        NA |  748424.0 | 207531.3 | NA | NA |      NA | NA |  8184423 |  955955.3 |  7228468 |\n| Niterói | RJ | MAR/2021 | Previdenciário | 17/05/2021 | 27860402 | 27860402 | 4621505 | 3482136 |        NA | ⋯ |        NA |  755172.8 | 212065.5 | NA | NA | 1937.85 | NA |  8135225 |  969176.1 |  7166048 |\n| Niterói | RJ | ABR/2021 | Previdenciário | 17/05/2021 | 28267342 | 28267342 | 4689552 | 3533413 | 3143374.9 | ⋯ |  23326.33 |  778853.3 | 239331.3 | NA | NA |  483.16 | NA | 11422074 | 1018667.8 | 10403406 |\n| Niterói | RJ | MAI/2021 | Previdenciário | 29/07/2021 | 28069165 | 28069165 | 4656674 | 3508637 |  804494.1 | ⋯ | 107951.35 |  782523.5 | 216830.2 | NA | NA | 2807.64 | NA |  9113545 | 1002161.3 |  8111384 |\n| Niterói | RJ | JUN/2021 | Previdenciário | 29/07/2021 | 28078793 | 28078793 | 4658272 | 3509840 |  814495.4 | ⋯ |  10723.93 | 1208203.8 | 324725.0 | NA | NA | 3747.50 | NA |  9026984 | 1536676.3 |  7490307 |\n\n",
            "text/html": [
              "<table class=\"dataframe\">\n",
              "<caption>A tibble: 6 × 44</caption>\n",
              "<thead>\n",
              "\t<tr><th scope=col>ente</th><th scope=col>uf</th><th scope=col>competencia</th><th scope=col>plano_segreg</th><th scope=col>dt_info</th><th scope=col>bc_pat_serv</th><th scope=col>bc_serv</th><th scope=col>ct_pat_serv</th><th scope=col>ct_serv</th><th scope=col>aportes_amortiz</th><th scope=col>⋯</th><th scope=col>ing_outros</th><th scope=col>desp_apo</th><th scope=col>desp_pen_morte</th><th scope=col>desp_decjud</th><th scope=col>desp_despadm</th><th scope=col>desp_rest</th><th scope=col>desp_comprev</th><th scope=col>total_receita</th><th scope=col>total_despesa</th><th scope=col>resutado_final</th></tr>\n",
              "\t<tr><th scope=col>&lt;chr&gt;</th><th scope=col>&lt;chr&gt;</th><th scope=col>&lt;chr&gt;</th><th scope=col>&lt;chr&gt;</th><th scope=col>&lt;chr&gt;</th><th scope=col>&lt;dbl&gt;</th><th scope=col>&lt;dbl&gt;</th><th scope=col>&lt;dbl&gt;</th><th scope=col>&lt;dbl&gt;</th><th scope=col>&lt;dbl&gt;</th><th scope=col>⋯</th><th scope=col>&lt;dbl&gt;</th><th scope=col>&lt;dbl&gt;</th><th scope=col>&lt;dbl&gt;</th><th scope=col>&lt;dbl&gt;</th><th scope=col>&lt;dbl&gt;</th><th scope=col>&lt;dbl&gt;</th><th scope=col>&lt;dbl&gt;</th><th scope=col>&lt;dbl&gt;</th><th scope=col>&lt;dbl&gt;</th><th scope=col>&lt;dbl&gt;</th></tr>\n",
              "</thead>\n",
              "<tbody>\n",
              "\t<tr><td>Niterói</td><td>RJ</td><td>JAN/2021</td><td>Previdenciário</td><td>28/04/2021</td><td>27958117</td><td>27958117</td><td>4638252</td><td>3494765</td><td> 762096.1</td><td>⋯</td><td>       NA</td><td> 731957.2</td><td>209260.0</td><td>NA</td><td>NA</td><td> 886.04</td><td>NA</td><td> 8925762</td><td> 942103.2</td><td> 7983659</td></tr>\n",
              "\t<tr><td>Niterói</td><td>RJ</td><td>FEV/2021</td><td>Previdenciário</td><td>28/04/2021</td><td>28031309</td><td>28031309</td><td>4650394</td><td>3503914</td><td>       NA</td><td>⋯</td><td>       NA</td><td> 748424.0</td><td>207531.3</td><td>NA</td><td>NA</td><td>     NA</td><td>NA</td><td> 8184423</td><td> 955955.3</td><td> 7228468</td></tr>\n",
              "\t<tr><td>Niterói</td><td>RJ</td><td>MAR/2021</td><td>Previdenciário</td><td>17/05/2021</td><td>27860402</td><td>27860402</td><td>4621505</td><td>3482136</td><td>       NA</td><td>⋯</td><td>       NA</td><td> 755172.8</td><td>212065.5</td><td>NA</td><td>NA</td><td>1937.85</td><td>NA</td><td> 8135225</td><td> 969176.1</td><td> 7166048</td></tr>\n",
              "\t<tr><td>Niterói</td><td>RJ</td><td>ABR/2021</td><td>Previdenciário</td><td>17/05/2021</td><td>28267342</td><td>28267342</td><td>4689552</td><td>3533413</td><td>3143374.9</td><td>⋯</td><td> 23326.33</td><td> 778853.3</td><td>239331.3</td><td>NA</td><td>NA</td><td> 483.16</td><td>NA</td><td>11422074</td><td>1018667.8</td><td>10403406</td></tr>\n",
              "\t<tr><td>Niterói</td><td>RJ</td><td>MAI/2021</td><td>Previdenciário</td><td>29/07/2021</td><td>28069165</td><td>28069165</td><td>4656674</td><td>3508637</td><td> 804494.1</td><td>⋯</td><td>107951.35</td><td> 782523.5</td><td>216830.2</td><td>NA</td><td>NA</td><td>2807.64</td><td>NA</td><td> 9113545</td><td>1002161.3</td><td> 8111384</td></tr>\n",
              "\t<tr><td>Niterói</td><td>RJ</td><td>JUN/2021</td><td>Previdenciário</td><td>29/07/2021</td><td>28078793</td><td>28078793</td><td>4658272</td><td>3509840</td><td> 814495.4</td><td>⋯</td><td> 10723.93</td><td>1208203.8</td><td>324725.0</td><td>NA</td><td>NA</td><td>3747.50</td><td>NA</td><td> 9026984</td><td>1536676.3</td><td> 7490307</td></tr>\n",
              "</tbody>\n",
              "</table>\n"
            ]
          },
          "metadata": {}
        }
      ]
    },
    {
      "cell_type": "code",
      "metadata": {
        "id": "r_Nd074PI7sg",
        "colab": {
          "base_uri": "https://localhost:8080/",
          "height": 303
        },
        "outputId": "e6b51cbd-7672-4030-e0c7-da54c0319b19"
      },
      "source": [
        "head(dipr_ente_fin)"
      ],
      "execution_count": null,
      "outputs": [
        {
          "output_type": "display_data",
          "data": {
            "text/plain": [
              "  ente    uf competencia plano_segreg dt_info    bc_pat_serv bc_serv \n",
              "1 Niterói RJ JAN/2021    Financeiro   28/04/2021 13242811    13242811\n",
              "2 Niterói RJ FEV/2021    Financeiro   28/04/2021 13144762    13144762\n",
              "3 Niterói RJ MAR/2021    Financeiro   17/05/2021 12955750    12955750\n",
              "4 Niterói RJ ABR/2021    Financeiro   17/05/2021 12976304    12976304\n",
              "5 Niterói RJ MAI/2021    Financeiro   29/07/2021 12948239    12948239\n",
              "6 Niterói RJ JUN/2021    Financeiro   29/07/2021 12826124    12826124\n",
              "  ct_pat_serv ct_serv aportes_amortiz ⋯ ing_outros  desp_apo desp_pen_morte\n",
              "1 2196982     1655351 NA              ⋯    55375.60 19469732  8091794      \n",
              "2 2180716     1643095 NA              ⋯     4594.29 19574032  8458498      \n",
              "3 2149895     1619862 NA              ⋯ 12002573.60 19611218  8359165      \n",
              "4 2152766     1622031 NA              ⋯ 12502000.04 19673274  8323683      \n",
              "5 2148113     1618522 NA              ⋯ 13028199.55 19732684  8329688      \n",
              "6 2127854     1603258 NA              ⋯ 16804930.69 29454775 12532837      \n",
              "  desp_decjud desp_despadm desp_rest desp_comprev total_receita total_despesa\n",
              "1 19146.27    349839.1      2608.38        NA      4986094      27933120     \n",
              "2 10925.40    664116.1       966.82  36659.14      9704846      28745198     \n",
              "3       NA    664132.0     16371.18   6027.83     18822454      28656914     \n",
              "4 35633.79    747218.7      1047.64  63523.09     19320593      28844380     \n",
              "5 16017.18    719709.3     29954.19   6771.08     19868174      28834824     \n",
              "6       NA    959007.6     10651.06   6771.08     23617184      42964042     \n",
              "  resutado_final\n",
              "1 -22947026     \n",
              "2 -19040351     \n",
              "3  -9834461     \n",
              "4  -9523787     \n",
              "5  -8966650     \n",
              "6 -19346859     "
            ],
            "text/latex": "A tibble: 6 × 44\n\\begin{tabular}{lllllllllllllllllllll}\n ente & uf & competencia & plano\\_segreg & dt\\_info & bc\\_pat\\_serv & bc\\_serv & ct\\_pat\\_serv & ct\\_serv & aportes\\_amortiz & ⋯ & ing\\_outros & desp\\_apo & desp\\_pen\\_morte & desp\\_decjud & desp\\_despadm & desp\\_rest & desp\\_comprev & total\\_receita & total\\_despesa & resutado\\_final\\\\\n <chr> & <chr> & <chr> & <chr> & <chr> & <dbl> & <dbl> & <dbl> & <dbl> & <dbl> & ⋯ & <dbl> & <dbl> & <dbl> & <dbl> & <dbl> & <dbl> & <dbl> & <dbl> & <dbl> & <dbl>\\\\\n\\hline\n\t Niterói & RJ & JAN/2021 & Financeiro & 28/04/2021 & 13242811 & 13242811 & 2196982 & 1655351 & NA & ⋯ &    55375.60 & 19469732 &  8091794 & 19146.27 & 349839.1 &  2608.38 &       NA &  4986094 & 27933120 & -22947026\\\\\n\t Niterói & RJ & FEV/2021 & Financeiro & 28/04/2021 & 13144762 & 13144762 & 2180716 & 1643095 & NA & ⋯ &     4594.29 & 19574032 &  8458498 & 10925.40 & 664116.1 &   966.82 & 36659.14 &  9704846 & 28745198 & -19040351\\\\\n\t Niterói & RJ & MAR/2021 & Financeiro & 17/05/2021 & 12955750 & 12955750 & 2149895 & 1619862 & NA & ⋯ & 12002573.60 & 19611218 &  8359165 &       NA & 664132.0 & 16371.18 &  6027.83 & 18822454 & 28656914 &  -9834461\\\\\n\t Niterói & RJ & ABR/2021 & Financeiro & 17/05/2021 & 12976304 & 12976304 & 2152766 & 1622031 & NA & ⋯ & 12502000.04 & 19673274 &  8323683 & 35633.79 & 747218.7 &  1047.64 & 63523.09 & 19320593 & 28844380 &  -9523787\\\\\n\t Niterói & RJ & MAI/2021 & Financeiro & 29/07/2021 & 12948239 & 12948239 & 2148113 & 1618522 & NA & ⋯ & 13028199.55 & 19732684 &  8329688 & 16017.18 & 719709.3 & 29954.19 &  6771.08 & 19868174 & 28834824 &  -8966650\\\\\n\t Niterói & RJ & JUN/2021 & Financeiro & 29/07/2021 & 12826124 & 12826124 & 2127854 & 1603258 & NA & ⋯ & 16804930.69 & 29454775 & 12532837 &       NA & 959007.6 & 10651.06 &  6771.08 & 23617184 & 42964042 & -19346859\\\\\n\\end{tabular}\n",
            "text/markdown": "\nA tibble: 6 × 44\n\n| ente &lt;chr&gt; | uf &lt;chr&gt; | competencia &lt;chr&gt; | plano_segreg &lt;chr&gt; | dt_info &lt;chr&gt; | bc_pat_serv &lt;dbl&gt; | bc_serv &lt;dbl&gt; | ct_pat_serv &lt;dbl&gt; | ct_serv &lt;dbl&gt; | aportes_amortiz &lt;dbl&gt; | ⋯ ⋯ | ing_outros &lt;dbl&gt; | desp_apo &lt;dbl&gt; | desp_pen_morte &lt;dbl&gt; | desp_decjud &lt;dbl&gt; | desp_despadm &lt;dbl&gt; | desp_rest &lt;dbl&gt; | desp_comprev &lt;dbl&gt; | total_receita &lt;dbl&gt; | total_despesa &lt;dbl&gt; | resutado_final &lt;dbl&gt; |\n|---|---|---|---|---|---|---|---|---|---|---|---|---|---|---|---|---|---|---|---|---|\n| Niterói | RJ | JAN/2021 | Financeiro | 28/04/2021 | 13242811 | 13242811 | 2196982 | 1655351 | NA | ⋯ |    55375.60 | 19469732 |  8091794 | 19146.27 | 349839.1 |  2608.38 |       NA |  4986094 | 27933120 | -22947026 |\n| Niterói | RJ | FEV/2021 | Financeiro | 28/04/2021 | 13144762 | 13144762 | 2180716 | 1643095 | NA | ⋯ |     4594.29 | 19574032 |  8458498 | 10925.40 | 664116.1 |   966.82 | 36659.14 |  9704846 | 28745198 | -19040351 |\n| Niterói | RJ | MAR/2021 | Financeiro | 17/05/2021 | 12955750 | 12955750 | 2149895 | 1619862 | NA | ⋯ | 12002573.60 | 19611218 |  8359165 |       NA | 664132.0 | 16371.18 |  6027.83 | 18822454 | 28656914 |  -9834461 |\n| Niterói | RJ | ABR/2021 | Financeiro | 17/05/2021 | 12976304 | 12976304 | 2152766 | 1622031 | NA | ⋯ | 12502000.04 | 19673274 |  8323683 | 35633.79 | 747218.7 |  1047.64 | 63523.09 | 19320593 | 28844380 |  -9523787 |\n| Niterói | RJ | MAI/2021 | Financeiro | 29/07/2021 | 12948239 | 12948239 | 2148113 | 1618522 | NA | ⋯ | 13028199.55 | 19732684 |  8329688 | 16017.18 | 719709.3 | 29954.19 |  6771.08 | 19868174 | 28834824 |  -8966650 |\n| Niterói | RJ | JUN/2021 | Financeiro | 29/07/2021 | 12826124 | 12826124 | 2127854 | 1603258 | NA | ⋯ | 16804930.69 | 29454775 | 12532837 |       NA | 959007.6 | 10651.06 |  6771.08 | 23617184 | 42964042 | -19346859 |\n\n",
            "text/html": [
              "<table class=\"dataframe\">\n",
              "<caption>A tibble: 6 × 44</caption>\n",
              "<thead>\n",
              "\t<tr><th scope=col>ente</th><th scope=col>uf</th><th scope=col>competencia</th><th scope=col>plano_segreg</th><th scope=col>dt_info</th><th scope=col>bc_pat_serv</th><th scope=col>bc_serv</th><th scope=col>ct_pat_serv</th><th scope=col>ct_serv</th><th scope=col>aportes_amortiz</th><th scope=col>⋯</th><th scope=col>ing_outros</th><th scope=col>desp_apo</th><th scope=col>desp_pen_morte</th><th scope=col>desp_decjud</th><th scope=col>desp_despadm</th><th scope=col>desp_rest</th><th scope=col>desp_comprev</th><th scope=col>total_receita</th><th scope=col>total_despesa</th><th scope=col>resutado_final</th></tr>\n",
              "\t<tr><th scope=col>&lt;chr&gt;</th><th scope=col>&lt;chr&gt;</th><th scope=col>&lt;chr&gt;</th><th scope=col>&lt;chr&gt;</th><th scope=col>&lt;chr&gt;</th><th scope=col>&lt;dbl&gt;</th><th scope=col>&lt;dbl&gt;</th><th scope=col>&lt;dbl&gt;</th><th scope=col>&lt;dbl&gt;</th><th scope=col>&lt;dbl&gt;</th><th scope=col>⋯</th><th scope=col>&lt;dbl&gt;</th><th scope=col>&lt;dbl&gt;</th><th scope=col>&lt;dbl&gt;</th><th scope=col>&lt;dbl&gt;</th><th scope=col>&lt;dbl&gt;</th><th scope=col>&lt;dbl&gt;</th><th scope=col>&lt;dbl&gt;</th><th scope=col>&lt;dbl&gt;</th><th scope=col>&lt;dbl&gt;</th><th scope=col>&lt;dbl&gt;</th></tr>\n",
              "</thead>\n",
              "<tbody>\n",
              "\t<tr><td>Niterói</td><td>RJ</td><td>JAN/2021</td><td>Financeiro</td><td>28/04/2021</td><td>13242811</td><td>13242811</td><td>2196982</td><td>1655351</td><td>NA</td><td>⋯</td><td>   55375.60</td><td>19469732</td><td> 8091794</td><td>19146.27</td><td>349839.1</td><td> 2608.38</td><td>      NA</td><td> 4986094</td><td>27933120</td><td>-22947026</td></tr>\n",
              "\t<tr><td>Niterói</td><td>RJ</td><td>FEV/2021</td><td>Financeiro</td><td>28/04/2021</td><td>13144762</td><td>13144762</td><td>2180716</td><td>1643095</td><td>NA</td><td>⋯</td><td>    4594.29</td><td>19574032</td><td> 8458498</td><td>10925.40</td><td>664116.1</td><td>  966.82</td><td>36659.14</td><td> 9704846</td><td>28745198</td><td>-19040351</td></tr>\n",
              "\t<tr><td>Niterói</td><td>RJ</td><td>MAR/2021</td><td>Financeiro</td><td>17/05/2021</td><td>12955750</td><td>12955750</td><td>2149895</td><td>1619862</td><td>NA</td><td>⋯</td><td>12002573.60</td><td>19611218</td><td> 8359165</td><td>      NA</td><td>664132.0</td><td>16371.18</td><td> 6027.83</td><td>18822454</td><td>28656914</td><td> -9834461</td></tr>\n",
              "\t<tr><td>Niterói</td><td>RJ</td><td>ABR/2021</td><td>Financeiro</td><td>17/05/2021</td><td>12976304</td><td>12976304</td><td>2152766</td><td>1622031</td><td>NA</td><td>⋯</td><td>12502000.04</td><td>19673274</td><td> 8323683</td><td>35633.79</td><td>747218.7</td><td> 1047.64</td><td>63523.09</td><td>19320593</td><td>28844380</td><td> -9523787</td></tr>\n",
              "\t<tr><td>Niterói</td><td>RJ</td><td>MAI/2021</td><td>Financeiro</td><td>29/07/2021</td><td>12948239</td><td>12948239</td><td>2148113</td><td>1618522</td><td>NA</td><td>⋯</td><td>13028199.55</td><td>19732684</td><td> 8329688</td><td>16017.18</td><td>719709.3</td><td>29954.19</td><td> 6771.08</td><td>19868174</td><td>28834824</td><td> -8966650</td></tr>\n",
              "\t<tr><td>Niterói</td><td>RJ</td><td>JUN/2021</td><td>Financeiro</td><td>29/07/2021</td><td>12826124</td><td>12826124</td><td>2127854</td><td>1603258</td><td>NA</td><td>⋯</td><td>16804930.69</td><td>29454775</td><td>12532837</td><td>      NA</td><td>959007.6</td><td>10651.06</td><td> 6771.08</td><td>23617184</td><td>42964042</td><td>-19346859</td></tr>\n",
              "</tbody>\n",
              "</table>\n"
            ]
          },
          "metadata": {}
        }
      ]
    },
    {
      "cell_type": "markdown",
      "metadata": {
        "id": "Y3a0p_DshI6i"
      },
      "source": [
        "Como pode ser visto nos quadros acima, algumas variáveis precisam ser processadas para que seja possível trabalhar de forma adequada com elas.\n",
        "\n",
        "Por exemplo, a variável competência está num formato de caractere, os valores numéricos também estão no formato de texto.\n",
        "\n",
        "Será necessário converter estas variáveis para os formatos adequados. \n",
        "\n",
        "No código a seguir será feito isso para toda a base de dados do DIPR (`dipr`)."
      ]
    },
    {
      "cell_type": "code",
      "metadata": {
        "id": "vPodaNmWijIj",
        "colab": {
          "base_uri": "https://localhost:8080/",
          "height": 51
        },
        "outputId": "260b978c-3fd5-445a-f04e-bcc8d3879083"
      },
      "source": [
        "# Competências disponíveis na base de dados\n",
        "unique(dipr$competencia)"
      ],
      "execution_count": null,
      "outputs": [
        {
          "output_type": "display_data",
          "data": {
            "text/plain": [
              " [1] \"JAN/2021\" \"FEV/2021\" \"MAR/2021\" \"ABR/2021\" \"MAI/2021\" \"JUN/2021\"\n",
              " [7] \"JAN/2020\" \"FEV/2020\" \"MAR/2020\" \"ABR/2020\" \"MAI/2020\" \"JUN/2020\"\n",
              "[13] \"JUL/2020\" \"AGO/2020\" \"SET/2020\" \"OUT/2020\" \"NOV/2020\" \"DEZ/2020\"\n",
              "[19] \"JAN/2019\" \"FEV/2019\" \"MAR/2019\" \"ABR/2019\" \"MAI/2019\" \"JUN/2019\"\n",
              "[25] \"JUL/2019\" \"AGO/2019\" \"SET/2019\" \"OUT/2019\" \"NOV/2019\" \"DEZ/2019\""
            ],
            "text/latex": "\\begin{enumerate*}\n\\item 'JAN/2021'\n\\item 'FEV/2021'\n\\item 'MAR/2021'\n\\item 'ABR/2021'\n\\item 'MAI/2021'\n\\item 'JUN/2021'\n\\item 'JAN/2020'\n\\item 'FEV/2020'\n\\item 'MAR/2020'\n\\item 'ABR/2020'\n\\item 'MAI/2020'\n\\item 'JUN/2020'\n\\item 'JUL/2020'\n\\item 'AGO/2020'\n\\item 'SET/2020'\n\\item 'OUT/2020'\n\\item 'NOV/2020'\n\\item 'DEZ/2020'\n\\item 'JAN/2019'\n\\item 'FEV/2019'\n\\item 'MAR/2019'\n\\item 'ABR/2019'\n\\item 'MAI/2019'\n\\item 'JUN/2019'\n\\item 'JUL/2019'\n\\item 'AGO/2019'\n\\item 'SET/2019'\n\\item 'OUT/2019'\n\\item 'NOV/2019'\n\\item 'DEZ/2019'\n\\end{enumerate*}\n",
            "text/markdown": "1. 'JAN/2021'\n2. 'FEV/2021'\n3. 'MAR/2021'\n4. 'ABR/2021'\n5. 'MAI/2021'\n6. 'JUN/2021'\n7. 'JAN/2020'\n8. 'FEV/2020'\n9. 'MAR/2020'\n10. 'ABR/2020'\n11. 'MAI/2020'\n12. 'JUN/2020'\n13. 'JUL/2020'\n14. 'AGO/2020'\n15. 'SET/2020'\n16. 'OUT/2020'\n17. 'NOV/2020'\n18. 'DEZ/2020'\n19. 'JAN/2019'\n20. 'FEV/2019'\n21. 'MAR/2019'\n22. 'ABR/2019'\n23. 'MAI/2019'\n24. 'JUN/2019'\n25. 'JUL/2019'\n26. 'AGO/2019'\n27. 'SET/2019'\n28. 'OUT/2019'\n29. 'NOV/2019'\n30. 'DEZ/2019'\n\n\n",
            "text/html": [
              "<style>\n",
              ".list-inline {list-style: none; margin:0; padding: 0}\n",
              ".list-inline>li {display: inline-block}\n",
              ".list-inline>li:not(:last-child)::after {content: \"\\00b7\"; padding: 0 .5ex}\n",
              "</style>\n",
              "<ol class=list-inline><li>'JAN/2021'</li><li>'FEV/2021'</li><li>'MAR/2021'</li><li>'ABR/2021'</li><li>'MAI/2021'</li><li>'JUN/2021'</li><li>'JAN/2020'</li><li>'FEV/2020'</li><li>'MAR/2020'</li><li>'ABR/2020'</li><li>'MAI/2020'</li><li>'JUN/2020'</li><li>'JUL/2020'</li><li>'AGO/2020'</li><li>'SET/2020'</li><li>'OUT/2020'</li><li>'NOV/2020'</li><li>'DEZ/2020'</li><li>'JAN/2019'</li><li>'FEV/2019'</li><li>'MAR/2019'</li><li>'ABR/2019'</li><li>'MAI/2019'</li><li>'JUN/2019'</li><li>'JUL/2019'</li><li>'AGO/2019'</li><li>'SET/2019'</li><li>'OUT/2019'</li><li>'NOV/2019'</li><li>'DEZ/2019'</li></ol>\n"
            ]
          },
          "metadata": {}
        }
      ]
    },
    {
      "cell_type": "code",
      "metadata": {
        "id": "l3139L6ijWEj",
        "colab": {
          "base_uri": "https://localhost:8080/",
          "height": 609
        },
        "outputId": "29985991-980a-4511-9b1f-2985708b784b"
      },
      "source": [
        "# Alterar para abreviação em inglês... O Colab não aceita redefinição do locale. \"Sys.setlocale()\"\n",
        "# FEB, APR, MAY, AUG, SEP, OCT,  DEC \n",
        "\n",
        "dipr <- dipr %>%\n",
        "              mutate(competencia = str_replace_all(competencia, c(\"FEV\" = \"FEB\",\n",
        "                                                                  \"ABR\" = \"APR\",\n",
        "                                                                  \"MAI\" = \"MAY\",\n",
        "                                                                  \"AGO\" = \"AUG\",\n",
        "                                                                  \"SET\" = \"SEP\",\n",
        "                                                                  \"OUT\" = \"OCT\",\n",
        "                                                                  \"DEZ\" = \"DEC\")))\n",
        "\n",
        "\n",
        "# Converter a variável competencia para o formato data\n",
        "dipr <- dipr %>% \n",
        "            mutate(competencia = dmy(paste(\"01\", competencia, sep = \"/\")),\n",
        "                   dt_info = dmy(dt_info)) \n",
        "\n",
        "head(dipr)"
      ],
      "execution_count": null,
      "outputs": [
        {
          "output_type": "display_data",
          "data": {
            "text/plain": [
              "  ente                        uf competencia plano_segreg   dt_info   \n",
              "1 Governo do Distrito Federal DF 2021-01-01  Financeiro     2021-03-22\n",
              "2 Governo do Distrito Federal DF 2021-01-01  Previdenciário 2021-03-22\n",
              "3 Governo do Distrito Federal DF 2021-02-01  Financeiro     2021-03-22\n",
              "4 Governo do Distrito Federal DF 2021-02-01  Previdenciário 2021-03-22\n",
              "5 Governo do Distrito Federal DF 2021-03-01  Financeiro     2021-05-25\n",
              "6 Governo do Distrito Federal DF 2021-03-01  Previdenciário 2021-05-25\n",
              "  bc_pat_serv bc_pat_serv_ug bc_pat_apo bc_pat_pen bc_serv   ⋯ nbmil_reserva\n",
              "1 662645466   NA             NA         NA         662645466 ⋯ NA           \n",
              "2  23358233   NA             NA         NA          23358233 ⋯ NA           \n",
              "3 655813874   NA             NA         NA         655813874 ⋯ NA           \n",
              "4  23851522   NA             NA         NA          23851522 ⋯ NA           \n",
              "5 666327863   NA             NA         NA         666327863 ⋯ NA           \n",
              "6  25182111   NA             NA         NA          25182111 ⋯ NA           \n",
              "  nbmil_pen nbmil_dep ingmil_contr ingmil_aportes ingmil_outras despmil_reseva\n",
              "1 NA        NA        0.01         NA             NA            NA            \n",
              "2 NA        NA          NA         NA             NA            NA            \n",
              "3 NA        NA        0.01         NA             NA            NA            \n",
              "4 NA        NA          NA         NA             NA            NA            \n",
              "5 NA        NA        0.01         NA             NA            NA            \n",
              "6 NA        NA          NA         NA             NA            NA            \n",
              "  despmil_penmorte despmil_outras resultado_final\n",
              "1 NA               NA             0.01           \n",
              "2 NA               NA               NA           \n",
              "3 NA               NA             0.01           \n",
              "4 NA               NA               NA           \n",
              "5 NA               NA             0.01           \n",
              "6 NA               NA               NA           "
            ],
            "text/latex": "A tibble: 6 × 91\n\\begin{tabular}{lllllllllllllllllllll}\n ente & uf & competencia & plano\\_segreg & dt\\_info & bc\\_pat\\_serv & bc\\_pat\\_serv\\_ug & bc\\_pat\\_apo & bc\\_pat\\_pen & bc\\_serv & ⋯ & nbmil\\_reserva & nbmil\\_pen & nbmil\\_dep & ingmil\\_contr & ingmil\\_aportes & ingmil\\_outras & despmil\\_reseva & despmil\\_penmorte & despmil\\_outras & resultado\\_final\\\\\n <chr> & <chr> & <date> & <chr> & <date> & <dbl> & <dbl> & <dbl> & <dbl> & <dbl> & ⋯ & <dbl> & <dbl> & <dbl> & <dbl> & <dbl> & <dbl> & <dbl> & <dbl> & <dbl> & <dbl>\\\\\n\\hline\n\t Governo do Distrito Federal & DF & 2021-01-01 & Financeiro     & 2021-03-22 & 662645466 & NA & NA & NA & 662645466 & ⋯ & NA & NA & NA & 0.01 & NA & NA & NA & NA & NA & 0.01\\\\\n\t Governo do Distrito Federal & DF & 2021-01-01 & Previdenciário & 2021-03-22 &  23358233 & NA & NA & NA &  23358233 & ⋯ & NA & NA & NA &   NA & NA & NA & NA & NA & NA &   NA\\\\\n\t Governo do Distrito Federal & DF & 2021-02-01 & Financeiro     & 2021-03-22 & 655813874 & NA & NA & NA & 655813874 & ⋯ & NA & NA & NA & 0.01 & NA & NA & NA & NA & NA & 0.01\\\\\n\t Governo do Distrito Federal & DF & 2021-02-01 & Previdenciário & 2021-03-22 &  23851522 & NA & NA & NA &  23851522 & ⋯ & NA & NA & NA &   NA & NA & NA & NA & NA & NA &   NA\\\\\n\t Governo do Distrito Federal & DF & 2021-03-01 & Financeiro     & 2021-05-25 & 666327863 & NA & NA & NA & 666327863 & ⋯ & NA & NA & NA & 0.01 & NA & NA & NA & NA & NA & 0.01\\\\\n\t Governo do Distrito Federal & DF & 2021-03-01 & Previdenciário & 2021-05-25 &  25182111 & NA & NA & NA &  25182111 & ⋯ & NA & NA & NA &   NA & NA & NA & NA & NA & NA &   NA\\\\\n\\end{tabular}\n",
            "text/markdown": "\nA tibble: 6 × 91\n\n| ente &lt;chr&gt; | uf &lt;chr&gt; | competencia &lt;date&gt; | plano_segreg &lt;chr&gt; | dt_info &lt;date&gt; | bc_pat_serv &lt;dbl&gt; | bc_pat_serv_ug &lt;dbl&gt; | bc_pat_apo &lt;dbl&gt; | bc_pat_pen &lt;dbl&gt; | bc_serv &lt;dbl&gt; | ⋯ ⋯ | nbmil_reserva &lt;dbl&gt; | nbmil_pen &lt;dbl&gt; | nbmil_dep &lt;dbl&gt; | ingmil_contr &lt;dbl&gt; | ingmil_aportes &lt;dbl&gt; | ingmil_outras &lt;dbl&gt; | despmil_reseva &lt;dbl&gt; | despmil_penmorte &lt;dbl&gt; | despmil_outras &lt;dbl&gt; | resultado_final &lt;dbl&gt; |\n|---|---|---|---|---|---|---|---|---|---|---|---|---|---|---|---|---|---|---|---|---|\n| Governo do Distrito Federal | DF | 2021-01-01 | Financeiro     | 2021-03-22 | 662645466 | NA | NA | NA | 662645466 | ⋯ | NA | NA | NA | 0.01 | NA | NA | NA | NA | NA | 0.01 |\n| Governo do Distrito Federal | DF | 2021-01-01 | Previdenciário | 2021-03-22 |  23358233 | NA | NA | NA |  23358233 | ⋯ | NA | NA | NA |   NA | NA | NA | NA | NA | NA |   NA |\n| Governo do Distrito Federal | DF | 2021-02-01 | Financeiro     | 2021-03-22 | 655813874 | NA | NA | NA | 655813874 | ⋯ | NA | NA | NA | 0.01 | NA | NA | NA | NA | NA | 0.01 |\n| Governo do Distrito Federal | DF | 2021-02-01 | Previdenciário | 2021-03-22 |  23851522 | NA | NA | NA |  23851522 | ⋯ | NA | NA | NA |   NA | NA | NA | NA | NA | NA |   NA |\n| Governo do Distrito Federal | DF | 2021-03-01 | Financeiro     | 2021-05-25 | 666327863 | NA | NA | NA | 666327863 | ⋯ | NA | NA | NA | 0.01 | NA | NA | NA | NA | NA | 0.01 |\n| Governo do Distrito Federal | DF | 2021-03-01 | Previdenciário | 2021-05-25 |  25182111 | NA | NA | NA |  25182111 | ⋯ | NA | NA | NA |   NA | NA | NA | NA | NA | NA |   NA |\n\n",
            "text/html": [
              "<table class=\"dataframe\">\n",
              "<caption>A tibble: 6 × 91</caption>\n",
              "<thead>\n",
              "\t<tr><th scope=col>ente</th><th scope=col>uf</th><th scope=col>competencia</th><th scope=col>plano_segreg</th><th scope=col>dt_info</th><th scope=col>bc_pat_serv</th><th scope=col>bc_pat_serv_ug</th><th scope=col>bc_pat_apo</th><th scope=col>bc_pat_pen</th><th scope=col>bc_serv</th><th scope=col>⋯</th><th scope=col>nbmil_reserva</th><th scope=col>nbmil_pen</th><th scope=col>nbmil_dep</th><th scope=col>ingmil_contr</th><th scope=col>ingmil_aportes</th><th scope=col>ingmil_outras</th><th scope=col>despmil_reseva</th><th scope=col>despmil_penmorte</th><th scope=col>despmil_outras</th><th scope=col>resultado_final</th></tr>\n",
              "\t<tr><th scope=col>&lt;chr&gt;</th><th scope=col>&lt;chr&gt;</th><th scope=col>&lt;date&gt;</th><th scope=col>&lt;chr&gt;</th><th scope=col>&lt;date&gt;</th><th scope=col>&lt;dbl&gt;</th><th scope=col>&lt;dbl&gt;</th><th scope=col>&lt;dbl&gt;</th><th scope=col>&lt;dbl&gt;</th><th scope=col>&lt;dbl&gt;</th><th scope=col>⋯</th><th scope=col>&lt;dbl&gt;</th><th scope=col>&lt;dbl&gt;</th><th scope=col>&lt;dbl&gt;</th><th scope=col>&lt;dbl&gt;</th><th scope=col>&lt;dbl&gt;</th><th scope=col>&lt;dbl&gt;</th><th scope=col>&lt;dbl&gt;</th><th scope=col>&lt;dbl&gt;</th><th scope=col>&lt;dbl&gt;</th><th scope=col>&lt;dbl&gt;</th></tr>\n",
              "</thead>\n",
              "<tbody>\n",
              "\t<tr><td>Governo do Distrito Federal</td><td>DF</td><td>2021-01-01</td><td>Financeiro    </td><td>2021-03-22</td><td>662645466</td><td>NA</td><td>NA</td><td>NA</td><td>662645466</td><td>⋯</td><td>NA</td><td>NA</td><td>NA</td><td>0.01</td><td>NA</td><td>NA</td><td>NA</td><td>NA</td><td>NA</td><td>0.01</td></tr>\n",
              "\t<tr><td>Governo do Distrito Federal</td><td>DF</td><td>2021-01-01</td><td>Previdenciário</td><td>2021-03-22</td><td> 23358233</td><td>NA</td><td>NA</td><td>NA</td><td> 23358233</td><td>⋯</td><td>NA</td><td>NA</td><td>NA</td><td>  NA</td><td>NA</td><td>NA</td><td>NA</td><td>NA</td><td>NA</td><td>  NA</td></tr>\n",
              "\t<tr><td>Governo do Distrito Federal</td><td>DF</td><td>2021-02-01</td><td>Financeiro    </td><td>2021-03-22</td><td>655813874</td><td>NA</td><td>NA</td><td>NA</td><td>655813874</td><td>⋯</td><td>NA</td><td>NA</td><td>NA</td><td>0.01</td><td>NA</td><td>NA</td><td>NA</td><td>NA</td><td>NA</td><td>0.01</td></tr>\n",
              "\t<tr><td>Governo do Distrito Federal</td><td>DF</td><td>2021-02-01</td><td>Previdenciário</td><td>2021-03-22</td><td> 23851522</td><td>NA</td><td>NA</td><td>NA</td><td> 23851522</td><td>⋯</td><td>NA</td><td>NA</td><td>NA</td><td>  NA</td><td>NA</td><td>NA</td><td>NA</td><td>NA</td><td>NA</td><td>  NA</td></tr>\n",
              "\t<tr><td>Governo do Distrito Federal</td><td>DF</td><td>2021-03-01</td><td>Financeiro    </td><td>2021-05-25</td><td>666327863</td><td>NA</td><td>NA</td><td>NA</td><td>666327863</td><td>⋯</td><td>NA</td><td>NA</td><td>NA</td><td>0.01</td><td>NA</td><td>NA</td><td>NA</td><td>NA</td><td>NA</td><td>0.01</td></tr>\n",
              "\t<tr><td>Governo do Distrito Federal</td><td>DF</td><td>2021-03-01</td><td>Previdenciário</td><td>2021-05-25</td><td> 25182111</td><td>NA</td><td>NA</td><td>NA</td><td> 25182111</td><td>⋯</td><td>NA</td><td>NA</td><td>NA</td><td>  NA</td><td>NA</td><td>NA</td><td>NA</td><td>NA</td><td>NA</td><td>  NA</td></tr>\n",
              "</tbody>\n",
              "</table>\n"
            ]
          },
          "metadata": {}
        }
      ]
    },
    {
      "cell_type": "markdown",
      "metadata": {
        "id": "ajowtKQjgemT"
      },
      "source": [
        "A base de dados está pronta para ser utilizada. Vamos exportar os dados para uma planilha."
      ]
    },
    {
      "cell_type": "code",
      "metadata": {
        "id": "OH3Zlfn7gd8U"
      },
      "source": [
        "write_xlsx(dipr, \"dipr_2019-2020-jul-ago-2021.xlsx\")"
      ],
      "execution_count": null,
      "outputs": []
    },
    {
      "cell_type": "markdown",
      "metadata": {
        "id": "xEHp1m7G1p3s"
      },
      "source": [
        "Feitos estes ajustes na base de dados, podemos agora realizar operações sobre esses dados, como por exemplo, selecionar os registros relativos a um ente em particular, descartando as variáveis que não possuam valores, isto é, a colunas que não possuam valores."
      ]
    },
    {
      "cell_type": "code",
      "metadata": {
        "id": "8t2JIVN_lM-V",
        "colab": {
          "base_uri": "https://localhost:8080/",
          "height": 405
        },
        "outputId": "d79e1806-b7a9-4712-c767-b22012f572e0"
      },
      "source": [
        "x <- dipr %>%\n",
        "       filter(uf==\"SP\", ente == \"Zacarias\") %>%\n",
        "       select_if(~!all(is.na(.)))\n",
        "\n",
        "head(x)\n"
      ],
      "execution_count": null,
      "outputs": [
        {
          "output_type": "display_data",
          "data": {
            "text/plain": [
              "  ente     uf competencia plano_segreg   dt_info    bc_pat_serv bc_pat_serv_ug\n",
              "1 Zacarias SP 2021-01-01  Previdenciário 2021-05-18 652391.6    NA            \n",
              "2 Zacarias SP 2021-02-01  Previdenciário 2021-05-18 655243.7    NA            \n",
              "3 Zacarias SP 2021-03-01  Previdenciário 2021-05-24 655699.6    NA            \n",
              "4 Zacarias SP 2021-04-01  Previdenciário 2021-05-24 652029.8    NA            \n",
              "5 Zacarias SP 2021-05-01  Previdenciário 2021-08-13 651551.4    NA            \n",
              "6 Zacarias SP 2021-06-01  Previdenciário 2021-08-13 647962.1    NA            \n",
              "  bc_serv  ct_pat_serv ct_pat_serv_ug ⋯ desp_apo  desp_pen_morte desp_auxdoenca\n",
              "1 654448.9 104382.7    NA             ⋯  98033.42 29213.73       NA            \n",
              "2 657300.9 104839.0    NA             ⋯  99734.56 29213.73       NA            \n",
              "3 657756.8 104911.9    NA             ⋯  99734.56 29213.73       NA            \n",
              "4 654087.1 104509.0    NA             ⋯ 100916.82 29213.73       NA            \n",
              "5 653608.7 104248.2    NA             ⋯ 102685.33 29213.73       NA            \n",
              "6 648603.8 103673.9    NA             ⋯ 104652.91 29213.73       NA            \n",
              "  desp_salmater desp_salfam desp_despadm desp_rest total_receita total_despesa\n",
              "1 NA            NA          14127.36     NA         178374.7     141374.5     \n",
              "2 NA            NA          15917.10     NA         179956.7     144865.4     \n",
              "3 NA            NA          21934.75     NA         417655.6     150883.0     \n",
              "4 NA            NA          30888.85     NA        1413939.4     161019.4     \n",
              "5 NA            NA          18299.97     NA        1762082.9     150199.0     \n",
              "6 NA            NA          18081.75     NA         255034.6     151948.4     \n",
              "  resutado_final\n",
              "1   37000.19    \n",
              "2   35091.29    \n",
              "3  266772.53    \n",
              "4 1252919.97    \n",
              "5 1611883.89    \n",
              "6  103086.18    "
            ],
            "text/latex": "A tibble: 6 × 44\n\\begin{tabular}{lllllllllllllllllllll}\n ente & uf & competencia & plano\\_segreg & dt\\_info & bc\\_pat\\_serv & bc\\_pat\\_serv\\_ug & bc\\_serv & ct\\_pat\\_serv & ct\\_pat\\_serv\\_ug & ⋯ & desp\\_apo & desp\\_pen\\_morte & desp\\_auxdoenca & desp\\_salmater & desp\\_salfam & desp\\_despadm & desp\\_rest & total\\_receita & total\\_despesa & resutado\\_final\\\\\n <chr> & <chr> & <date> & <chr> & <date> & <dbl> & <dbl> & <dbl> & <dbl> & <dbl> & ⋯ & <dbl> & <dbl> & <dbl> & <dbl> & <dbl> & <dbl> & <dbl> & <dbl> & <dbl> & <dbl>\\\\\n\\hline\n\t Zacarias & SP & 2021-01-01 & Previdenciário & 2021-05-18 & 652391.6 & NA & 654448.9 & 104382.7 & NA & ⋯ &  98033.42 & 29213.73 & NA & NA & NA & 14127.36 & NA &  178374.7 & 141374.5 &   37000.19\\\\\n\t Zacarias & SP & 2021-02-01 & Previdenciário & 2021-05-18 & 655243.7 & NA & 657300.9 & 104839.0 & NA & ⋯ &  99734.56 & 29213.73 & NA & NA & NA & 15917.10 & NA &  179956.7 & 144865.4 &   35091.29\\\\\n\t Zacarias & SP & 2021-03-01 & Previdenciário & 2021-05-24 & 655699.6 & NA & 657756.8 & 104911.9 & NA & ⋯ &  99734.56 & 29213.73 & NA & NA & NA & 21934.75 & NA &  417655.6 & 150883.0 &  266772.53\\\\\n\t Zacarias & SP & 2021-04-01 & Previdenciário & 2021-05-24 & 652029.8 & NA & 654087.1 & 104509.0 & NA & ⋯ & 100916.82 & 29213.73 & NA & NA & NA & 30888.85 & NA & 1413939.4 & 161019.4 & 1252919.97\\\\\n\t Zacarias & SP & 2021-05-01 & Previdenciário & 2021-08-13 & 651551.4 & NA & 653608.7 & 104248.2 & NA & ⋯ & 102685.33 & 29213.73 & NA & NA & NA & 18299.97 & NA & 1762082.9 & 150199.0 & 1611883.89\\\\\n\t Zacarias & SP & 2021-06-01 & Previdenciário & 2021-08-13 & 647962.1 & NA & 648603.8 & 103673.9 & NA & ⋯ & 104652.91 & 29213.73 & NA & NA & NA & 18081.75 & NA &  255034.6 & 151948.4 &  103086.18\\\\\n\\end{tabular}\n",
            "text/markdown": "\nA tibble: 6 × 44\n\n| ente &lt;chr&gt; | uf &lt;chr&gt; | competencia &lt;date&gt; | plano_segreg &lt;chr&gt; | dt_info &lt;date&gt; | bc_pat_serv &lt;dbl&gt; | bc_pat_serv_ug &lt;dbl&gt; | bc_serv &lt;dbl&gt; | ct_pat_serv &lt;dbl&gt; | ct_pat_serv_ug &lt;dbl&gt; | ⋯ ⋯ | desp_apo &lt;dbl&gt; | desp_pen_morte &lt;dbl&gt; | desp_auxdoenca &lt;dbl&gt; | desp_salmater &lt;dbl&gt; | desp_salfam &lt;dbl&gt; | desp_despadm &lt;dbl&gt; | desp_rest &lt;dbl&gt; | total_receita &lt;dbl&gt; | total_despesa &lt;dbl&gt; | resutado_final &lt;dbl&gt; |\n|---|---|---|---|---|---|---|---|---|---|---|---|---|---|---|---|---|---|---|---|---|\n| Zacarias | SP | 2021-01-01 | Previdenciário | 2021-05-18 | 652391.6 | NA | 654448.9 | 104382.7 | NA | ⋯ |  98033.42 | 29213.73 | NA | NA | NA | 14127.36 | NA |  178374.7 | 141374.5 |   37000.19 |\n| Zacarias | SP | 2021-02-01 | Previdenciário | 2021-05-18 | 655243.7 | NA | 657300.9 | 104839.0 | NA | ⋯ |  99734.56 | 29213.73 | NA | NA | NA | 15917.10 | NA |  179956.7 | 144865.4 |   35091.29 |\n| Zacarias | SP | 2021-03-01 | Previdenciário | 2021-05-24 | 655699.6 | NA | 657756.8 | 104911.9 | NA | ⋯ |  99734.56 | 29213.73 | NA | NA | NA | 21934.75 | NA |  417655.6 | 150883.0 |  266772.53 |\n| Zacarias | SP | 2021-04-01 | Previdenciário | 2021-05-24 | 652029.8 | NA | 654087.1 | 104509.0 | NA | ⋯ | 100916.82 | 29213.73 | NA | NA | NA | 30888.85 | NA | 1413939.4 | 161019.4 | 1252919.97 |\n| Zacarias | SP | 2021-05-01 | Previdenciário | 2021-08-13 | 651551.4 | NA | 653608.7 | 104248.2 | NA | ⋯ | 102685.33 | 29213.73 | NA | NA | NA | 18299.97 | NA | 1762082.9 | 150199.0 | 1611883.89 |\n| Zacarias | SP | 2021-06-01 | Previdenciário | 2021-08-13 | 647962.1 | NA | 648603.8 | 103673.9 | NA | ⋯ | 104652.91 | 29213.73 | NA | NA | NA | 18081.75 | NA |  255034.6 | 151948.4 |  103086.18 |\n\n",
            "text/html": [
              "<table class=\"dataframe\">\n",
              "<caption>A tibble: 6 × 44</caption>\n",
              "<thead>\n",
              "\t<tr><th scope=col>ente</th><th scope=col>uf</th><th scope=col>competencia</th><th scope=col>plano_segreg</th><th scope=col>dt_info</th><th scope=col>bc_pat_serv</th><th scope=col>bc_pat_serv_ug</th><th scope=col>bc_serv</th><th scope=col>ct_pat_serv</th><th scope=col>ct_pat_serv_ug</th><th scope=col>⋯</th><th scope=col>desp_apo</th><th scope=col>desp_pen_morte</th><th scope=col>desp_auxdoenca</th><th scope=col>desp_salmater</th><th scope=col>desp_salfam</th><th scope=col>desp_despadm</th><th scope=col>desp_rest</th><th scope=col>total_receita</th><th scope=col>total_despesa</th><th scope=col>resutado_final</th></tr>\n",
              "\t<tr><th scope=col>&lt;chr&gt;</th><th scope=col>&lt;chr&gt;</th><th scope=col>&lt;date&gt;</th><th scope=col>&lt;chr&gt;</th><th scope=col>&lt;date&gt;</th><th scope=col>&lt;dbl&gt;</th><th scope=col>&lt;dbl&gt;</th><th scope=col>&lt;dbl&gt;</th><th scope=col>&lt;dbl&gt;</th><th scope=col>&lt;dbl&gt;</th><th scope=col>⋯</th><th scope=col>&lt;dbl&gt;</th><th scope=col>&lt;dbl&gt;</th><th scope=col>&lt;dbl&gt;</th><th scope=col>&lt;dbl&gt;</th><th scope=col>&lt;dbl&gt;</th><th scope=col>&lt;dbl&gt;</th><th scope=col>&lt;dbl&gt;</th><th scope=col>&lt;dbl&gt;</th><th scope=col>&lt;dbl&gt;</th><th scope=col>&lt;dbl&gt;</th></tr>\n",
              "</thead>\n",
              "<tbody>\n",
              "\t<tr><td>Zacarias</td><td>SP</td><td>2021-01-01</td><td>Previdenciário</td><td>2021-05-18</td><td>652391.6</td><td>NA</td><td>654448.9</td><td>104382.7</td><td>NA</td><td>⋯</td><td> 98033.42</td><td>29213.73</td><td>NA</td><td>NA</td><td>NA</td><td>14127.36</td><td>NA</td><td> 178374.7</td><td>141374.5</td><td>  37000.19</td></tr>\n",
              "\t<tr><td>Zacarias</td><td>SP</td><td>2021-02-01</td><td>Previdenciário</td><td>2021-05-18</td><td>655243.7</td><td>NA</td><td>657300.9</td><td>104839.0</td><td>NA</td><td>⋯</td><td> 99734.56</td><td>29213.73</td><td>NA</td><td>NA</td><td>NA</td><td>15917.10</td><td>NA</td><td> 179956.7</td><td>144865.4</td><td>  35091.29</td></tr>\n",
              "\t<tr><td>Zacarias</td><td>SP</td><td>2021-03-01</td><td>Previdenciário</td><td>2021-05-24</td><td>655699.6</td><td>NA</td><td>657756.8</td><td>104911.9</td><td>NA</td><td>⋯</td><td> 99734.56</td><td>29213.73</td><td>NA</td><td>NA</td><td>NA</td><td>21934.75</td><td>NA</td><td> 417655.6</td><td>150883.0</td><td> 266772.53</td></tr>\n",
              "\t<tr><td>Zacarias</td><td>SP</td><td>2021-04-01</td><td>Previdenciário</td><td>2021-05-24</td><td>652029.8</td><td>NA</td><td>654087.1</td><td>104509.0</td><td>NA</td><td>⋯</td><td>100916.82</td><td>29213.73</td><td>NA</td><td>NA</td><td>NA</td><td>30888.85</td><td>NA</td><td>1413939.4</td><td>161019.4</td><td>1252919.97</td></tr>\n",
              "\t<tr><td>Zacarias</td><td>SP</td><td>2021-05-01</td><td>Previdenciário</td><td>2021-08-13</td><td>651551.4</td><td>NA</td><td>653608.7</td><td>104248.2</td><td>NA</td><td>⋯</td><td>102685.33</td><td>29213.73</td><td>NA</td><td>NA</td><td>NA</td><td>18299.97</td><td>NA</td><td>1762082.9</td><td>150199.0</td><td>1611883.89</td></tr>\n",
              "\t<tr><td>Zacarias</td><td>SP</td><td>2021-06-01</td><td>Previdenciário</td><td>2021-08-13</td><td>647962.1</td><td>NA</td><td>648603.8</td><td>103673.9</td><td>NA</td><td>⋯</td><td>104652.91</td><td>29213.73</td><td>NA</td><td>NA</td><td>NA</td><td>18081.75</td><td>NA</td><td> 255034.6</td><td>151948.4</td><td> 103086.18</td></tr>\n",
              "</tbody>\n",
              "</table>\n"
            ]
          },
          "metadata": {}
        }
      ]
    }
  ]
}